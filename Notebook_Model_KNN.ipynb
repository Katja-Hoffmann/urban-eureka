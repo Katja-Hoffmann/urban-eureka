{
  "cells": [
    {
      "cell_type": "markdown",
      "metadata": {
        "colab_type": "text",
        "id": "g6T5r-RjKYON"
      },
      "source": [
        "# Loading the data\n",
        "Make sure the CSV files provided by Zindi are in the same folder as this notebook. If it's running on Google Colab, you can use the 'files' tab on the left to upload them. We load the training data from Train.csv, and print out the variable descriptions here for easy reference. "
      ]
    },
    {
      "cell_type": "code",
      "execution_count": 1,
      "metadata": {
        "colab": {},
        "colab_type": "code",
        "id": "gV8Fpz7vKYOP"
      },
      "outputs": [],
      "source": [
        "import pandas as pd\n",
        "import numpy as np\n",
        "import os, random, math, glob\n",
        "from IPython.display import Image as IM\n",
        "from IPython.display import clear_output\n",
        "from matplotlib import pyplot as plt\n",
        "%matplotlib inline\n",
        "plt.rcParams['figure.figsize'] = [16, 10]\n",
        "import seaborn as sns\n",
        "from sklearn.model_selection import train_test_split\n",
        "from scipy.stats import boxcox"
      ]
    },
    {
      "cell_type": "code",
      "execution_count": 2,
      "metadata": {
        "colab": {
          "base_uri": "https://localhost:8080/",
          "height": 309
        },
        "colab_type": "code",
        "id": "gfGrrqGlKYOV",
        "outputId": "c918b49a-67a7-4b1b-81bf-918684a2ca9b"
      },
      "outputs": [
        {
          "data": {
            "text/html": [
              "<div>\n",
              "<style scoped>\n",
              "    .dataframe tbody tr th:only-of-type {\n",
              "        vertical-align: middle;\n",
              "    }\n",
              "\n",
              "    .dataframe tbody tr th {\n",
              "        vertical-align: top;\n",
              "    }\n",
              "\n",
              "    .dataframe thead th {\n",
              "        text-align: right;\n",
              "    }\n",
              "</style>\n",
              "<table border=\"1\" class=\"dataframe\">\n",
              "  <thead>\n",
              "    <tr style=\"text-align: right;\">\n",
              "      <th></th>\n",
              "      <th>ward</th>\n",
              "      <th>total_households</th>\n",
              "      <th>total_individuals</th>\n",
              "      <th>target</th>\n",
              "      <th>dw_00</th>\n",
              "      <th>dw_01</th>\n",
              "      <th>dw_02</th>\n",
              "      <th>dw_03</th>\n",
              "      <th>dw_04</th>\n",
              "      <th>dw_05</th>\n",
              "      <th>...</th>\n",
              "      <th>pw_03</th>\n",
              "      <th>pw_04</th>\n",
              "      <th>pw_05</th>\n",
              "      <th>pw_06</th>\n",
              "      <th>pw_07</th>\n",
              "      <th>pw_08</th>\n",
              "      <th>ADM4_PCODE</th>\n",
              "      <th>lat</th>\n",
              "      <th>lon</th>\n",
              "      <th>NL</th>\n",
              "    </tr>\n",
              "  </thead>\n",
              "  <tbody>\n",
              "    <tr>\n",
              "      <th>0</th>\n",
              "      <td>41601001: Ward 1</td>\n",
              "      <td>1674.45058</td>\n",
              "      <td>5888.20750</td>\n",
              "      <td>16.773757</td>\n",
              "      <td>0.933841</td>\n",
              "      <td>0.000846</td>\n",
              "      <td>0.005490</td>\n",
              "      <td>0.000676</td>\n",
              "      <td>0.000000</td>\n",
              "      <td>0.001372</td>\n",
              "      <td>...</td>\n",
              "      <td>0.002848</td>\n",
              "      <td>0.007537</td>\n",
              "      <td>0.000000</td>\n",
              "      <td>0.012928</td>\n",
              "      <td>0</td>\n",
              "      <td>0</td>\n",
              "      <td>ZA4161001</td>\n",
              "      <td>-29.682270</td>\n",
              "      <td>24.734743</td>\n",
              "      <td>0.292039</td>\n",
              "    </tr>\n",
              "    <tr>\n",
              "      <th>1</th>\n",
              "      <td>41601002: Ward 2</td>\n",
              "      <td>1736.99230</td>\n",
              "      <td>6735.33812</td>\n",
              "      <td>21.496661</td>\n",
              "      <td>0.696940</td>\n",
              "      <td>0.001253</td>\n",
              "      <td>0.004402</td>\n",
              "      <td>0.000000</td>\n",
              "      <td>0.002301</td>\n",
              "      <td>0.001323</td>\n",
              "      <td>...</td>\n",
              "      <td>0.014566</td>\n",
              "      <td>0.057127</td>\n",
              "      <td>0.019092</td>\n",
              "      <td>0.004131</td>\n",
              "      <td>0</td>\n",
              "      <td>0</td>\n",
              "      <td>ZA4161002</td>\n",
              "      <td>-29.119311</td>\n",
              "      <td>24.757737</td>\n",
              "      <td>3.207775</td>\n",
              "    </tr>\n",
              "    <tr>\n",
              "      <th>2</th>\n",
              "      <td>41601003: Ward 3</td>\n",
              "      <td>2403.57591</td>\n",
              "      <td>7273.04995</td>\n",
              "      <td>10.931425</td>\n",
              "      <td>0.810545</td>\n",
              "      <td>0.004517</td>\n",
              "      <td>0.008891</td>\n",
              "      <td>0.003986</td>\n",
              "      <td>0.007735</td>\n",
              "      <td>0.000956</td>\n",
              "      <td>...</td>\n",
              "      <td>0.057560</td>\n",
              "      <td>0.010358</td>\n",
              "      <td>0.001421</td>\n",
              "      <td>0.040881</td>\n",
              "      <td>0</td>\n",
              "      <td>0</td>\n",
              "      <td>ZA4161003</td>\n",
              "      <td>-29.142276</td>\n",
              "      <td>25.094093</td>\n",
              "      <td>0.000000</td>\n",
              "    </tr>\n",
              "    <tr>\n",
              "      <th>3</th>\n",
              "      <td>41601004: Ward 4</td>\n",
              "      <td>1740.78737</td>\n",
              "      <td>5734.49046</td>\n",
              "      <td>23.119257</td>\n",
              "      <td>0.659914</td>\n",
              "      <td>0.000000</td>\n",
              "      <td>0.006129</td>\n",
              "      <td>0.000000</td>\n",
              "      <td>0.000813</td>\n",
              "      <td>0.037245</td>\n",
              "      <td>...</td>\n",
              "      <td>0.000000</td>\n",
              "      <td>0.000669</td>\n",
              "      <td>0.000000</td>\n",
              "      <td>0.005011</td>\n",
              "      <td>0</td>\n",
              "      <td>0</td>\n",
              "      <td>ZA4161004</td>\n",
              "      <td>-29.372052</td>\n",
              "      <td>24.942867</td>\n",
              "      <td>2.038778</td>\n",
              "    </tr>\n",
              "    <tr>\n",
              "      <th>4</th>\n",
              "      <td>41601005: Ward 5</td>\n",
              "      <td>1730.51451</td>\n",
              "      <td>6657.23835</td>\n",
              "      <td>13.652252</td>\n",
              "      <td>0.950575</td>\n",
              "      <td>0.000655</td>\n",
              "      <td>0.001473</td>\n",
              "      <td>0.000598</td>\n",
              "      <td>0.006999</td>\n",
              "      <td>0.000818</td>\n",
              "      <td>...</td>\n",
              "      <td>0.004859</td>\n",
              "      <td>0.001290</td>\n",
              "      <td>0.000673</td>\n",
              "      <td>0.017629</td>\n",
              "      <td>0</td>\n",
              "      <td>0</td>\n",
              "      <td>ZA4161005</td>\n",
              "      <td>-29.409381</td>\n",
              "      <td>25.290165</td>\n",
              "      <td>0.000000</td>\n",
              "    </tr>\n",
              "  </tbody>\n",
              "</table>\n",
              "<p>5 rows × 63 columns</p>\n",
              "</div>"
            ],
            "text/plain": [
              "               ward  total_households  total_individuals     target     dw_00  \\\n",
              "0  41601001: Ward 1        1674.45058         5888.20750  16.773757  0.933841   \n",
              "1  41601002: Ward 2        1736.99230         6735.33812  21.496661  0.696940   \n",
              "2  41601003: Ward 3        2403.57591         7273.04995  10.931425  0.810545   \n",
              "3  41601004: Ward 4        1740.78737         5734.49046  23.119257  0.659914   \n",
              "4  41601005: Ward 5        1730.51451         6657.23835  13.652252  0.950575   \n",
              "\n",
              "      dw_01     dw_02     dw_03     dw_04     dw_05  ...     pw_03     pw_04  \\\n",
              "0  0.000846  0.005490  0.000676  0.000000  0.001372  ...  0.002848  0.007537   \n",
              "1  0.001253  0.004402  0.000000  0.002301  0.001323  ...  0.014566  0.057127   \n",
              "2  0.004517  0.008891  0.003986  0.007735  0.000956  ...  0.057560  0.010358   \n",
              "3  0.000000  0.006129  0.000000  0.000813  0.037245  ...  0.000000  0.000669   \n",
              "4  0.000655  0.001473  0.000598  0.006999  0.000818  ...  0.004859  0.001290   \n",
              "\n",
              "      pw_05     pw_06  pw_07  pw_08  ADM4_PCODE        lat        lon  \\\n",
              "0  0.000000  0.012928      0      0   ZA4161001 -29.682270  24.734743   \n",
              "1  0.019092  0.004131      0      0   ZA4161002 -29.119311  24.757737   \n",
              "2  0.001421  0.040881      0      0   ZA4161003 -29.142276  25.094093   \n",
              "3  0.000000  0.005011      0      0   ZA4161004 -29.372052  24.942867   \n",
              "4  0.000673  0.017629      0      0   ZA4161005 -29.409381  25.290165   \n",
              "\n",
              "         NL  \n",
              "0  0.292039  \n",
              "1  3.207775  \n",
              "2  0.000000  \n",
              "3  2.038778  \n",
              "4  0.000000  \n",
              "\n",
              "[5 rows x 63 columns]"
            ]
          },
          "execution_count": 2,
          "metadata": {},
          "output_type": "execute_result"
        }
      ],
      "source": [
        "df = pd.read_csv('data/Train.csv')\n",
        "df.head()"
      ]
    },
    {
      "cell_type": "code",
      "execution_count": 3,
      "metadata": {},
      "outputs": [
        {
          "name": "stdout",
          "output_type": "stream",
          "text": [
            "<class 'pandas.core.frame.DataFrame'>\n",
            "RangeIndex: 2822 entries, 0 to 2821\n",
            "Data columns (total 63 columns):\n",
            " #   Column             Non-Null Count  Dtype  \n",
            "---  ------             --------------  -----  \n",
            " 0   ward               2822 non-null   object \n",
            " 1   total_households   2822 non-null   float64\n",
            " 2   total_individuals  2822 non-null   float64\n",
            " 3   target             2822 non-null   float64\n",
            " 4   dw_00              2822 non-null   float64\n",
            " 5   dw_01              2822 non-null   float64\n",
            " 6   dw_02              2822 non-null   float64\n",
            " 7   dw_03              2822 non-null   float64\n",
            " 8   dw_04              2822 non-null   float64\n",
            " 9   dw_05              2822 non-null   float64\n",
            " 10  dw_06              2822 non-null   float64\n",
            " 11  dw_07              2822 non-null   float64\n",
            " 12  dw_08              2822 non-null   float64\n",
            " 13  dw_09              2822 non-null   float64\n",
            " 14  dw_10              2822 non-null   float64\n",
            " 15  dw_11              2822 non-null   float64\n",
            " 16  dw_12              2822 non-null   int64  \n",
            " 17  dw_13              2822 non-null   int64  \n",
            " 18  psa_00             2822 non-null   float64\n",
            " 19  psa_01             2822 non-null   float64\n",
            " 20  psa_02             2822 non-null   float64\n",
            " 21  psa_03             2822 non-null   float64\n",
            " 22  psa_04             2822 non-null   float64\n",
            " 23  stv_00             2822 non-null   float64\n",
            " 24  stv_01             2822 non-null   float64\n",
            " 25  car_00             2822 non-null   float64\n",
            " 26  car_01             2822 non-null   float64\n",
            " 27  lln_00             2822 non-null   float64\n",
            " 28  lln_01             2822 non-null   float64\n",
            " 29  lan_00             2822 non-null   float64\n",
            " 30  lan_01             2822 non-null   float64\n",
            " 31  lan_02             2822 non-null   float64\n",
            " 32  lan_03             2822 non-null   float64\n",
            " 33  lan_04             2822 non-null   float64\n",
            " 34  lan_05             2822 non-null   float64\n",
            " 35  lan_06             2822 non-null   float64\n",
            " 36  lan_07             2822 non-null   float64\n",
            " 37  lan_08             2822 non-null   float64\n",
            " 38  lan_09             2822 non-null   float64\n",
            " 39  lan_10             2822 non-null   float64\n",
            " 40  lan_11             2822 non-null   float64\n",
            " 41  lan_12             2822 non-null   float64\n",
            " 42  lan_13             2822 non-null   int64  \n",
            " 43  lan_14             2822 non-null   float64\n",
            " 44  pg_00              2822 non-null   float64\n",
            " 45  pg_01              2822 non-null   float64\n",
            " 46  pg_02              2822 non-null   float64\n",
            " 47  pg_03              2822 non-null   float64\n",
            " 48  pg_04              2822 non-null   float64\n",
            " 49  lgt_00             2822 non-null   float64\n",
            " 50  pw_00              2822 non-null   float64\n",
            " 51  pw_01              2822 non-null   float64\n",
            " 52  pw_02              2822 non-null   float64\n",
            " 53  pw_03              2822 non-null   float64\n",
            " 54  pw_04              2822 non-null   float64\n",
            " 55  pw_05              2822 non-null   float64\n",
            " 56  pw_06              2822 non-null   float64\n",
            " 57  pw_07              2822 non-null   int64  \n",
            " 58  pw_08              2822 non-null   int64  \n",
            " 59  ADM4_PCODE         2822 non-null   object \n",
            " 60  lat                2822 non-null   float64\n",
            " 61  lon                2822 non-null   float64\n",
            " 62  NL                 2822 non-null   float64\n",
            "dtypes: float64(56), int64(5), object(2)\n",
            "memory usage: 1.4+ MB\n"
          ]
        }
      ],
      "source": [
        "df.info()"
      ]
    },
    {
      "cell_type": "code",
      "execution_count": 4,
      "metadata": {},
      "outputs": [
        {
          "data": {
            "text/html": [
              "<div>\n",
              "<style scoped>\n",
              "    .dataframe tbody tr th:only-of-type {\n",
              "        vertical-align: middle;\n",
              "    }\n",
              "\n",
              "    .dataframe tbody tr th {\n",
              "        vertical-align: top;\n",
              "    }\n",
              "\n",
              "    .dataframe thead th {\n",
              "        text-align: right;\n",
              "    }\n",
              "</style>\n",
              "<table border=\"1\" class=\"dataframe\">\n",
              "  <thead>\n",
              "    <tr style=\"text-align: right;\">\n",
              "      <th></th>\n",
              "      <th>total_households</th>\n",
              "      <th>total_individuals</th>\n",
              "      <th>target</th>\n",
              "      <th>dw_00</th>\n",
              "      <th>dw_01</th>\n",
              "      <th>dw_02</th>\n",
              "      <th>dw_03</th>\n",
              "      <th>dw_04</th>\n",
              "      <th>dw_05</th>\n",
              "      <th>dw_06</th>\n",
              "      <th>...</th>\n",
              "      <th>pw_02</th>\n",
              "      <th>pw_03</th>\n",
              "      <th>pw_04</th>\n",
              "      <th>pw_05</th>\n",
              "      <th>pw_06</th>\n",
              "      <th>pw_07</th>\n",
              "      <th>pw_08</th>\n",
              "      <th>lat</th>\n",
              "      <th>lon</th>\n",
              "      <th>NL</th>\n",
              "    </tr>\n",
              "  </thead>\n",
              "  <tbody>\n",
              "    <tr>\n",
              "      <th>count</th>\n",
              "      <td>2822.000000</td>\n",
              "      <td>2822.000000</td>\n",
              "      <td>2822.000000</td>\n",
              "      <td>2822.000000</td>\n",
              "      <td>2822.000000</td>\n",
              "      <td>2822.000000</td>\n",
              "      <td>2822.000000</td>\n",
              "      <td>2822.000000</td>\n",
              "      <td>2822.000000</td>\n",
              "      <td>2822.000000</td>\n",
              "      <td>...</td>\n",
              "      <td>2822.000000</td>\n",
              "      <td>2822.000000</td>\n",
              "      <td>2822.000000</td>\n",
              "      <td>2822.000000</td>\n",
              "      <td>2822.000000</td>\n",
              "      <td>2822.0</td>\n",
              "      <td>2822.0</td>\n",
              "      <td>2822.000000</td>\n",
              "      <td>2822.000000</td>\n",
              "      <td>2822.000000</td>\n",
              "    </tr>\n",
              "    <tr>\n",
              "      <th>mean</th>\n",
              "      <td>3665.281214</td>\n",
              "      <td>12869.130053</td>\n",
              "      <td>24.507554</td>\n",
              "      <td>0.712196</td>\n",
              "      <td>0.092616</td>\n",
              "      <td>0.032043</td>\n",
              "      <td>0.006057</td>\n",
              "      <td>0.008665</td>\n",
              "      <td>0.006289</td>\n",
              "      <td>0.022375</td>\n",
              "      <td>...</td>\n",
              "      <td>0.127555</td>\n",
              "      <td>0.041589</td>\n",
              "      <td>0.019655</td>\n",
              "      <td>0.011008</td>\n",
              "      <td>0.110818</td>\n",
              "      <td>0.0</td>\n",
              "      <td>0.0</td>\n",
              "      <td>-26.880740</td>\n",
              "      <td>28.666515</td>\n",
              "      <td>17.437560</td>\n",
              "    </tr>\n",
              "    <tr>\n",
              "      <th>std</th>\n",
              "      <td>3266.364522</td>\n",
              "      <td>9696.690518</td>\n",
              "      <td>10.294387</td>\n",
              "      <td>0.214035</td>\n",
              "      <td>0.182852</td>\n",
              "      <td>0.080253</td>\n",
              "      <td>0.019374</td>\n",
              "      <td>0.030697</td>\n",
              "      <td>0.024606</td>\n",
              "      <td>0.037127</td>\n",
              "      <td>...</td>\n",
              "      <td>0.156400</td>\n",
              "      <td>0.057331</td>\n",
              "      <td>0.032926</td>\n",
              "      <td>0.023672</td>\n",
              "      <td>0.185401</td>\n",
              "      <td>0.0</td>\n",
              "      <td>0.0</td>\n",
              "      <td>2.021279</td>\n",
              "      <td>2.373809</td>\n",
              "      <td>18.958621</td>\n",
              "    </tr>\n",
              "    <tr>\n",
              "      <th>min</th>\n",
              "      <td>1.000000</td>\n",
              "      <td>402.000000</td>\n",
              "      <td>0.000000</td>\n",
              "      <td>0.000000</td>\n",
              "      <td>0.000000</td>\n",
              "      <td>0.000000</td>\n",
              "      <td>0.000000</td>\n",
              "      <td>0.000000</td>\n",
              "      <td>0.000000</td>\n",
              "      <td>0.000000</td>\n",
              "      <td>...</td>\n",
              "      <td>0.000000</td>\n",
              "      <td>0.000000</td>\n",
              "      <td>0.000000</td>\n",
              "      <td>0.000000</td>\n",
              "      <td>0.000000</td>\n",
              "      <td>0.0</td>\n",
              "      <td>0.0</td>\n",
              "      <td>-32.490089</td>\n",
              "      <td>16.760022</td>\n",
              "      <td>0.000000</td>\n",
              "    </tr>\n",
              "    <tr>\n",
              "      <th>25%</th>\n",
              "      <td>1778.858235</td>\n",
              "      <td>7071.205695</td>\n",
              "      <td>16.751556</td>\n",
              "      <td>0.594212</td>\n",
              "      <td>0.002895</td>\n",
              "      <td>0.002407</td>\n",
              "      <td>0.000000</td>\n",
              "      <td>0.000000</td>\n",
              "      <td>0.000000</td>\n",
              "      <td>0.002716</td>\n",
              "      <td>...</td>\n",
              "      <td>0.008673</td>\n",
              "      <td>0.002099</td>\n",
              "      <td>0.000715</td>\n",
              "      <td>0.000159</td>\n",
              "      <td>0.005217</td>\n",
              "      <td>0.0</td>\n",
              "      <td>0.0</td>\n",
              "      <td>-28.569019</td>\n",
              "      <td>27.707932</td>\n",
              "      <td>3.033397</td>\n",
              "    </tr>\n",
              "    <tr>\n",
              "      <th>50%</th>\n",
              "      <td>2398.249935</td>\n",
              "      <td>9366.989680</td>\n",
              "      <td>24.156670</td>\n",
              "      <td>0.766841</td>\n",
              "      <td>0.010425</td>\n",
              "      <td>0.005762</td>\n",
              "      <td>0.000807</td>\n",
              "      <td>0.000607</td>\n",
              "      <td>0.000865</td>\n",
              "      <td>0.008639</td>\n",
              "      <td>...</td>\n",
              "      <td>0.069065</td>\n",
              "      <td>0.016496</td>\n",
              "      <td>0.005164</td>\n",
              "      <td>0.001459</td>\n",
              "      <td>0.025165</td>\n",
              "      <td>0.0</td>\n",
              "      <td>0.0</td>\n",
              "      <td>-26.549866</td>\n",
              "      <td>28.959679</td>\n",
              "      <td>9.205572</td>\n",
              "    </tr>\n",
              "    <tr>\n",
              "      <th>75%</th>\n",
              "      <td>3987.080563</td>\n",
              "      <td>14241.233015</td>\n",
              "      <td>32.226553</td>\n",
              "      <td>0.881708</td>\n",
              "      <td>0.068209</td>\n",
              "      <td>0.027913</td>\n",
              "      <td>0.002538</td>\n",
              "      <td>0.002225</td>\n",
              "      <td>0.003027</td>\n",
              "      <td>0.025218</td>\n",
              "      <td>...</td>\n",
              "      <td>0.183384</td>\n",
              "      <td>0.058626</td>\n",
              "      <td>0.025055</td>\n",
              "      <td>0.009432</td>\n",
              "      <td>0.116638</td>\n",
              "      <td>0.0</td>\n",
              "      <td>0.0</td>\n",
              "      <td>-25.572130</td>\n",
              "      <td>30.441505</td>\n",
              "      <td>26.890531</td>\n",
              "    </tr>\n",
              "    <tr>\n",
              "      <th>max</th>\n",
              "      <td>39684.942130</td>\n",
              "      <td>91716.746370</td>\n",
              "      <td>55.528423</td>\n",
              "      <td>0.994962</td>\n",
              "      <td>0.931490</td>\n",
              "      <td>0.951806</td>\n",
              "      <td>0.264239</td>\n",
              "      <td>0.392085</td>\n",
              "      <td>0.435912</td>\n",
              "      <td>0.412936</td>\n",
              "      <td>...</td>\n",
              "      <td>1.000000</td>\n",
              "      <td>0.327393</td>\n",
              "      <td>0.306787</td>\n",
              "      <td>0.228261</td>\n",
              "      <td>0.961523</td>\n",
              "      <td>0.0</td>\n",
              "      <td>0.0</td>\n",
              "      <td>-22.331267</td>\n",
              "      <td>32.858249</td>\n",
              "      <td>63.000000</td>\n",
              "    </tr>\n",
              "  </tbody>\n",
              "</table>\n",
              "<p>8 rows × 61 columns</p>\n",
              "</div>"
            ],
            "text/plain": [
              "       total_households  total_individuals       target        dw_00  \\\n",
              "count       2822.000000        2822.000000  2822.000000  2822.000000   \n",
              "mean        3665.281214       12869.130053    24.507554     0.712196   \n",
              "std         3266.364522        9696.690518    10.294387     0.214035   \n",
              "min            1.000000         402.000000     0.000000     0.000000   \n",
              "25%         1778.858235        7071.205695    16.751556     0.594212   \n",
              "50%         2398.249935        9366.989680    24.156670     0.766841   \n",
              "75%         3987.080563       14241.233015    32.226553     0.881708   \n",
              "max        39684.942130       91716.746370    55.528423     0.994962   \n",
              "\n",
              "             dw_01        dw_02        dw_03        dw_04        dw_05  \\\n",
              "count  2822.000000  2822.000000  2822.000000  2822.000000  2822.000000   \n",
              "mean      0.092616     0.032043     0.006057     0.008665     0.006289   \n",
              "std       0.182852     0.080253     0.019374     0.030697     0.024606   \n",
              "min       0.000000     0.000000     0.000000     0.000000     0.000000   \n",
              "25%       0.002895     0.002407     0.000000     0.000000     0.000000   \n",
              "50%       0.010425     0.005762     0.000807     0.000607     0.000865   \n",
              "75%       0.068209     0.027913     0.002538     0.002225     0.003027   \n",
              "max       0.931490     0.951806     0.264239     0.392085     0.435912   \n",
              "\n",
              "             dw_06  ...        pw_02        pw_03        pw_04        pw_05  \\\n",
              "count  2822.000000  ...  2822.000000  2822.000000  2822.000000  2822.000000   \n",
              "mean      0.022375  ...     0.127555     0.041589     0.019655     0.011008   \n",
              "std       0.037127  ...     0.156400     0.057331     0.032926     0.023672   \n",
              "min       0.000000  ...     0.000000     0.000000     0.000000     0.000000   \n",
              "25%       0.002716  ...     0.008673     0.002099     0.000715     0.000159   \n",
              "50%       0.008639  ...     0.069065     0.016496     0.005164     0.001459   \n",
              "75%       0.025218  ...     0.183384     0.058626     0.025055     0.009432   \n",
              "max       0.412936  ...     1.000000     0.327393     0.306787     0.228261   \n",
              "\n",
              "             pw_06   pw_07   pw_08          lat          lon           NL  \n",
              "count  2822.000000  2822.0  2822.0  2822.000000  2822.000000  2822.000000  \n",
              "mean      0.110818     0.0     0.0   -26.880740    28.666515    17.437560  \n",
              "std       0.185401     0.0     0.0     2.021279     2.373809    18.958621  \n",
              "min       0.000000     0.0     0.0   -32.490089    16.760022     0.000000  \n",
              "25%       0.005217     0.0     0.0   -28.569019    27.707932     3.033397  \n",
              "50%       0.025165     0.0     0.0   -26.549866    28.959679     9.205572  \n",
              "75%       0.116638     0.0     0.0   -25.572130    30.441505    26.890531  \n",
              "max       0.961523     0.0     0.0   -22.331267    32.858249    63.000000  \n",
              "\n",
              "[8 rows x 61 columns]"
            ]
          },
          "execution_count": 4,
          "metadata": {},
          "output_type": "execute_result"
        }
      ],
      "source": [
        "df.describe()"
      ]
    },
    {
      "cell_type": "markdown",
      "metadata": {},
      "source": [
        "['dw_13', 'lan_13', 'dw_12', 'pw_08', 'pw_07'] have only 0 in them --> we could drop these features"
      ]
    },
    {
      "cell_type": "code",
      "execution_count": 5,
      "metadata": {},
      "outputs": [],
      "source": [
        "# drop features with only 0 in them\n",
        "df = df.drop(['dw_13', 'lan_13', 'dw_12', 'pw_08', 'pw_07', 'lat', 'lon', 'ward', 'ADM4_PCODE'], axis=1)"
      ]
    },
    {
      "cell_type": "code",
      "execution_count": 6,
      "metadata": {},
      "outputs": [
        {
          "name": "stdout",
          "output_type": "stream",
          "text": [
            "<class 'pandas.core.frame.DataFrame'>\n",
            "RangeIndex: 2822 entries, 0 to 2821\n",
            "Data columns (total 54 columns):\n",
            " #   Column             Non-Null Count  Dtype  \n",
            "---  ------             --------------  -----  \n",
            " 0   total_households   2822 non-null   float64\n",
            " 1   total_individuals  2822 non-null   float64\n",
            " 2   target             2822 non-null   float64\n",
            " 3   dw_00              2822 non-null   float64\n",
            " 4   dw_01              2822 non-null   float64\n",
            " 5   dw_02              2822 non-null   float64\n",
            " 6   dw_03              2822 non-null   float64\n",
            " 7   dw_04              2822 non-null   float64\n",
            " 8   dw_05              2822 non-null   float64\n",
            " 9   dw_06              2822 non-null   float64\n",
            " 10  dw_07              2822 non-null   float64\n",
            " 11  dw_08              2822 non-null   float64\n",
            " 12  dw_09              2822 non-null   float64\n",
            " 13  dw_10              2822 non-null   float64\n",
            " 14  dw_11              2822 non-null   float64\n",
            " 15  psa_00             2822 non-null   float64\n",
            " 16  psa_01             2822 non-null   float64\n",
            " 17  psa_02             2822 non-null   float64\n",
            " 18  psa_03             2822 non-null   float64\n",
            " 19  psa_04             2822 non-null   float64\n",
            " 20  stv_00             2822 non-null   float64\n",
            " 21  stv_01             2822 non-null   float64\n",
            " 22  car_00             2822 non-null   float64\n",
            " 23  car_01             2822 non-null   float64\n",
            " 24  lln_00             2822 non-null   float64\n",
            " 25  lln_01             2822 non-null   float64\n",
            " 26  lan_00             2822 non-null   float64\n",
            " 27  lan_01             2822 non-null   float64\n",
            " 28  lan_02             2822 non-null   float64\n",
            " 29  lan_03             2822 non-null   float64\n",
            " 30  lan_04             2822 non-null   float64\n",
            " 31  lan_05             2822 non-null   float64\n",
            " 32  lan_06             2822 non-null   float64\n",
            " 33  lan_07             2822 non-null   float64\n",
            " 34  lan_08             2822 non-null   float64\n",
            " 35  lan_09             2822 non-null   float64\n",
            " 36  lan_10             2822 non-null   float64\n",
            " 37  lan_11             2822 non-null   float64\n",
            " 38  lan_12             2822 non-null   float64\n",
            " 39  lan_14             2822 non-null   float64\n",
            " 40  pg_00              2822 non-null   float64\n",
            " 41  pg_01              2822 non-null   float64\n",
            " 42  pg_02              2822 non-null   float64\n",
            " 43  pg_03              2822 non-null   float64\n",
            " 44  pg_04              2822 non-null   float64\n",
            " 45  lgt_00             2822 non-null   float64\n",
            " 46  pw_00              2822 non-null   float64\n",
            " 47  pw_01              2822 non-null   float64\n",
            " 48  pw_02              2822 non-null   float64\n",
            " 49  pw_03              2822 non-null   float64\n",
            " 50  pw_04              2822 non-null   float64\n",
            " 51  pw_05              2822 non-null   float64\n",
            " 52  pw_06              2822 non-null   float64\n",
            " 53  NL                 2822 non-null   float64\n",
            "dtypes: float64(54)\n",
            "memory usage: 1.2 MB\n"
          ]
        }
      ],
      "source": [
        "df.info()"
      ]
    },
    {
      "cell_type": "code",
      "execution_count": 7,
      "metadata": {},
      "outputs": [
        {
          "data": {
            "text/plain": [
              "(2822, 54)"
            ]
          },
          "execution_count": 7,
          "metadata": {},
          "output_type": "execute_result"
        }
      ],
      "source": [
        "df.shape"
      ]
    },
    {
      "cell_type": "code",
      "execution_count": 10,
      "metadata": {},
      "outputs": [],
      "source": [
        "reduced_feature_list = ['pw_00', 'psa_00', 'car_00', 'pg_03', 'NL', 'lan_00', 'pg_00', 'target']\n",
        "df_red = df[reduced_feature_list]"
      ]
    },
    {
      "cell_type": "code",
      "execution_count": 11,
      "metadata": {},
      "outputs": [],
      "source": [
        "# transform the data\n",
        "def convert_zeros(x):\n",
        "    '''\n",
        "    function to convert zeros to a postive number \n",
        "    so that it can be transformed with the boxcox'''\n",
        "    if x == 0.0:\n",
        "        return 0.0000001\n",
        "    else :\n",
        "        return x\n"
      ]
    },
    {
      "cell_type": "code",
      "execution_count": 12,
      "metadata": {},
      "outputs": [
        {
          "name": "stderr",
          "output_type": "stream",
          "text": [
            "/var/folders/8j/mj8c2cg9517b0ht89l57gj9m0000gn/T/ipykernel_84057/987145503.py:3: SettingWithCopyWarning: \n",
            "A value is trying to be set on a copy of a slice from a DataFrame.\n",
            "Try using .loc[row_indexer,col_indexer] = value instead\n",
            "\n",
            "See the caveats in the documentation: https://pandas.pydata.org/pandas-docs/stable/user_guide/indexing.html#returning-a-view-versus-a-copy\n",
            "  df_red[col] = df_red[col].apply(convert_zeros)\n",
            "/var/folders/8j/mj8c2cg9517b0ht89l57gj9m0000gn/T/ipykernel_84057/987145503.py:4: SettingWithCopyWarning: \n",
            "A value is trying to be set on a copy of a slice from a DataFrame.\n",
            "Try using .loc[row_indexer,col_indexer] = value instead\n",
            "\n",
            "See the caveats in the documentation: https://pandas.pydata.org/pandas-docs/stable/user_guide/indexing.html#returning-a-view-versus-a-copy\n",
            "  df_red[col] = boxcox(df_red[col])[0].reshape(-1,1);\n"
          ]
        }
      ],
      "source": [
        "\n",
        "\n",
        "for col in reduced_feature_list:\n",
        "    if col != 'target' and  col != 'psa_00' and col != 'car_00' and col != 'pg_00':\n",
        "        df_red[col] = df_red[col].apply(convert_zeros)\n",
        "        df_red[col] = boxcox(df_red[col])[0].reshape(-1,1);"
      ]
    },
    {
      "cell_type": "code",
      "execution_count": 13,
      "metadata": {},
      "outputs": [
        {
          "data": {
            "text/html": [
              "<div>\n",
              "<style scoped>\n",
              "    .dataframe tbody tr th:only-of-type {\n",
              "        vertical-align: middle;\n",
              "    }\n",
              "\n",
              "    .dataframe tbody tr th {\n",
              "        vertical-align: top;\n",
              "    }\n",
              "\n",
              "    .dataframe thead th {\n",
              "        text-align: right;\n",
              "    }\n",
              "</style>\n",
              "<table border=\"1\" class=\"dataframe\">\n",
              "  <thead>\n",
              "    <tr style=\"text-align: right;\">\n",
              "      <th></th>\n",
              "      <th>pw_00</th>\n",
              "      <th>psa_00</th>\n",
              "      <th>car_00</th>\n",
              "      <th>pg_03</th>\n",
              "      <th>NL</th>\n",
              "      <th>lan_00</th>\n",
              "      <th>pg_00</th>\n",
              "      <th>target</th>\n",
              "    </tr>\n",
              "  </thead>\n",
              "  <tbody>\n",
              "    <tr>\n",
              "      <th>0</th>\n",
              "      <td>-0.284113</td>\n",
              "      <td>0.260191</td>\n",
              "      <td>0.273727</td>\n",
              "      <td>-2.468668</td>\n",
              "      <td>-1.053425</td>\n",
              "      <td>-0.183226</td>\n",
              "      <td>0.357455</td>\n",
              "      <td>16.773757</td>\n",
              "    </tr>\n",
              "    <tr>\n",
              "      <th>1</th>\n",
              "      <td>-0.982978</td>\n",
              "      <td>0.290228</td>\n",
              "      <td>0.144638</td>\n",
              "      <td>-3.780784</td>\n",
              "      <td>1.361363</td>\n",
              "      <td>-0.128422</td>\n",
              "      <td>0.698428</td>\n",
              "      <td>21.496661</td>\n",
              "    </tr>\n",
              "    <tr>\n",
              "      <th>2</th>\n",
              "      <td>-0.951828</td>\n",
              "      <td>0.186435</td>\n",
              "      <td>0.272220</td>\n",
              "      <td>-1.716657</td>\n",
              "      <td>-3.789711</td>\n",
              "      <td>-0.573863</td>\n",
              "      <td>0.672452</td>\n",
              "      <td>10.931425</td>\n",
              "    </tr>\n",
              "    <tr>\n",
              "      <th>3</th>\n",
              "      <td>-0.366754</td>\n",
              "      <td>0.281229</td>\n",
              "      <td>0.127875</td>\n",
              "      <td>-5.967212</td>\n",
              "      <td>0.782549</td>\n",
              "      <td>-0.297017</td>\n",
              "      <td>0.728014</td>\n",
              "      <td>23.119257</td>\n",
              "    </tr>\n",
              "    <tr>\n",
              "      <th>4</th>\n",
              "      <td>-0.249689</td>\n",
              "      <td>0.196687</td>\n",
              "      <td>0.404507</td>\n",
              "      <td>-2.126300</td>\n",
              "      <td>-3.789711</td>\n",
              "      <td>-0.870200</td>\n",
              "      <td>0.753491</td>\n",
              "      <td>13.652252</td>\n",
              "    </tr>\n",
              "  </tbody>\n",
              "</table>\n",
              "</div>"
            ],
            "text/plain": [
              "      pw_00    psa_00    car_00     pg_03        NL    lan_00     pg_00  \\\n",
              "0 -0.284113  0.260191  0.273727 -2.468668 -1.053425 -0.183226  0.357455   \n",
              "1 -0.982978  0.290228  0.144638 -3.780784  1.361363 -0.128422  0.698428   \n",
              "2 -0.951828  0.186435  0.272220 -1.716657 -3.789711 -0.573863  0.672452   \n",
              "3 -0.366754  0.281229  0.127875 -5.967212  0.782549 -0.297017  0.728014   \n",
              "4 -0.249689  0.196687  0.404507 -2.126300 -3.789711 -0.870200  0.753491   \n",
              "\n",
              "      target  \n",
              "0  16.773757  \n",
              "1  21.496661  \n",
              "2  10.931425  \n",
              "3  23.119257  \n",
              "4  13.652252  "
            ]
          },
          "execution_count": 13,
          "metadata": {},
          "output_type": "execute_result"
        }
      ],
      "source": [
        "df_red.head()"
      ]
    },
    {
      "cell_type": "code",
      "execution_count": 14,
      "metadata": {},
      "outputs": [
        {
          "name": "stdout",
          "output_type": "stream",
          "text": [
            "X_train: (2116, 7)\n",
            "y_train: (2116,)\n",
            "X_test: (706, 7)\n",
            "y_test: (706,)\n"
          ]
        }
      ],
      "source": [
        "# Train test split with same random seed\n",
        "# Defining X and y\n",
        "features = df_red.columns.tolist()\n",
        "features.remove('target')\n",
        "X = df[features]\n",
        "y = df.target\n",
        "\n",
        "# Splitting the dataset\n",
        "X_train, X_test, y_train, y_test = train_test_split(X, y, test_size=0.25, random_state=150, shuffle=True)\n",
        "\n",
        "# Check the shape of the data sets\n",
        "print(\"X_train:\", X_train.shape)\n",
        "print(\"y_train:\", y_train.shape)\n",
        "print(\"X_test:\", X_test.shape)\n",
        "print(\"y_test:\", y_test.shape)"
      ]
    },
    {
      "cell_type": "markdown",
      "metadata": {},
      "source": [
        "# KNN Model"
      ]
    },
    {
      "cell_type": "code",
      "execution_count": 81,
      "metadata": {},
      "outputs": [],
      "source": [
        "# Import packages for KNN\n",
        "\n",
        "from sklearn.neighbors import KNeighborsRegressor\n",
        "from sklearn.preprocessing import MinMaxScaler\n",
        "from sklearn.metrics import mean_squared_error"
      ]
    },
    {
      "cell_type": "code",
      "execution_count": 82,
      "metadata": {},
      "outputs": [],
      "source": [
        "# normalize the data\n",
        "\n",
        "from sklearn.preprocessing import MinMaxScaler\n",
        "\n",
        "# fit scaler on training data\n",
        "norm = MinMaxScaler().fit(X_train)\n",
        "\n",
        "# transform training data\n",
        "X_train_norm = norm.transform(X_train)\n",
        "\n",
        "# transform testing data\n",
        "X_test_norm = norm.transform(X_test)"
      ]
    },
    {
      "cell_type": "code",
      "execution_count": 83,
      "metadata": {},
      "outputs": [
        {
          "data": {
            "text/plain": [
              "KNeighborsRegressor(metric='euclidean')"
            ]
          },
          "execution_count": 83,
          "metadata": {},
          "output_type": "execute_result"
        }
      ],
      "source": [
        "# Train model\n",
        "\n",
        "knn = KNeighborsRegressor(n_neighbors=5, metric='euclidean') # first try with default value of n_neighbors = 5\n",
        "knn.fit(X_train_norm, (y_train))"
      ]
    },
    {
      "cell_type": "code",
      "execution_count": 84,
      "metadata": {},
      "outputs": [],
      "source": [
        "# Predict target values\n",
        "y_pred = knn.predict(X_test_norm)"
      ]
    },
    {
      "cell_type": "code",
      "execution_count": 85,
      "metadata": {},
      "outputs": [
        {
          "name": "stdout",
          "output_type": "stream",
          "text": [
            "4.459630875063243\n"
          ]
        }
      ],
      "source": [
        "# Evaluate the model\n",
        "MSE = mean_squared_error(y_pred, y_test)\n",
        "RMSE = np.sqrt(MSE)\n",
        "\n",
        "print(RMSE)"
      ]
    },
    {
      "cell_type": "code",
      "execution_count": 89,
      "metadata": {},
      "outputs": [
        {
          "data": {
            "text/plain": [
              "KNeighborsRegressor(p=1)"
            ]
          },
          "execution_count": 89,
          "metadata": {},
          "output_type": "execute_result"
        }
      ],
      "source": [
        "# Train model other hyperparameters\n",
        "\n",
        "knn2 = KNeighborsRegressor(n_neighbors=5, p=1) # first try with default value of n_neighbors = 5\n",
        "knn2.fit(X_train_norm, (y_train))"
      ]
    },
    {
      "cell_type": "code",
      "execution_count": 90,
      "metadata": {},
      "outputs": [
        {
          "name": "stdout",
          "output_type": "stream",
          "text": [
            "4.522615154553224\n"
          ]
        }
      ],
      "source": [
        "# Predict target values and print RMSE\n",
        "y_pred2 = knn2.predict(X_test_norm)\n",
        "\n",
        "MSE = mean_squared_error(y_pred2, y_test)\n",
        "RMSE = np.sqrt(MSE)\n",
        "\n",
        "print(RMSE)"
      ]
    },
    {
      "cell_type": "code",
      "execution_count": 91,
      "metadata": {},
      "outputs": [
        {
          "name": "stdout",
          "output_type": "stream",
          "text": [
            "RMSE value for k=  1 is: 5.442844470896378\n",
            "RMSE value for k=  2 is: 4.891768586459219\n",
            "RMSE value for k=  3 is: 4.64521356724017\n",
            "RMSE value for k=  4 is: 4.522118508000427\n",
            "RMSE value for k=  5 is: 4.459630875063243\n",
            "RMSE value for k=  6 is: 4.387535875409072\n",
            "RMSE value for k=  7 is: 4.391032458979832\n",
            "RMSE value for k=  8 is: 4.370890937977278\n",
            "RMSE value for k=  9 is: 4.353183699158731\n",
            "RMSE value for k=  10 is: 4.362507885692046\n",
            "RMSE value for k=  11 is: 4.333602589294788\n",
            "RMSE value for k=  12 is: 4.3170072405426465\n",
            "RMSE value for k=  13 is: 4.309139491630204\n",
            "RMSE value for k=  14 is: 4.29469568700869\n",
            "RMSE value for k=  15 is: 4.29747941343136\n",
            "RMSE value for k=  16 is: 4.2993724893584675\n",
            "RMSE value for k=  17 is: 4.304687534209672\n",
            "RMSE value for k=  18 is: 4.3244860423720475\n",
            "RMSE value for k=  19 is: 4.334205482309178\n",
            "RMSE value for k=  20 is: 4.318221138876896\n"
          ]
        }
      ],
      "source": [
        "# try different values for n_neighbors\n",
        "\n",
        "rmse_val = [] #to store rmse values for different k\n",
        "for K in range(20):\n",
        "    K = K+1\n",
        "    model = KNeighborsRegressor(n_neighbors = K)\n",
        "\n",
        "    model.fit(X_train_norm, y_train)  #fit the model\n",
        "    pred=model.predict(X_test_norm) #make prediction on test set\n",
        "    error = np.sqrt(mean_squared_error(y_test,pred)) #calculate rmse\n",
        "    rmse_val.append(error) #store rmse values\n",
        "    print('RMSE value for k= ' , K , 'is:', error)"
      ]
    },
    {
      "cell_type": "code",
      "execution_count": 106,
      "metadata": {},
      "outputs": [
        {
          "name": "stdout",
          "output_type": "stream",
          "text": [
            "Best value:  4.29469568700869\n"
          ]
        }
      ],
      "source": [
        "# Print best score\n",
        "rmse_val.sort()\n",
        "print(\"Best value: \", rmse_val[0])"
      ]
    },
    {
      "cell_type": "markdown",
      "metadata": {},
      "source": [
        "# Support Vector Machine"
      ]
    },
    {
      "cell_type": "code",
      "execution_count": 64,
      "metadata": {},
      "outputs": [],
      "source": [
        "# import package for SVM Model\n",
        "from sklearn.svm import SVR"
      ]
    },
    {
      "cell_type": "code",
      "execution_count": 77,
      "metadata": {},
      "outputs": [
        {
          "name": "stdout",
          "output_type": "stream",
          "text": [
            "[LibSVM].........................\n",
            "Warning: using -h 0 may be faster\n",
            "*....\n",
            "Warning: using -h 0 may be faster\n",
            "*........................*.......................................................................*.........................................*..............................................*..............................................................................................................................................................................................................*.....................*.......................................................................................*.....................*\n",
            "optimization finished, #iter = 540152\n",
            "obj = -8666.818081, rho = -21.756556\n"
          ]
        },
        {
          "data": {
            "text/plain": [
              "SVR(kernel='linear', verbose=2)"
            ]
          },
          "execution_count": 77,
          "metadata": {},
          "output_type": "execute_result"
        },
        {
          "name": "stdout",
          "output_type": "stream",
          "text": [
            "nSV = 2078, nBSV = 2071\n"
          ]
        }
      ],
      "source": [
        "# Train the model\n",
        "clf = SVR(kernel='linear', verbose=2)\n",
        "clf.fit(X_train, y_train) "
      ]
    },
    {
      "cell_type": "code",
      "execution_count": 76,
      "metadata": {},
      "outputs": [
        {
          "name": "stdout",
          "output_type": "stream",
          "text": [
            "4.824088463407089\n"
          ]
        }
      ],
      "source": [
        "# Predict target values and print RMSE\n",
        "y_pred_svm = clf.predict(X_test)\n",
        "\n",
        "MSE = mean_squared_error(y_pred_svm, y_test)\n",
        "RMSE = np.sqrt(MSE)\n",
        "\n",
        "print(RMSE)"
      ]
    }
  ],
  "metadata": {
    "colab": {
      "collapsed_sections": [],
      "name": "Starter Notebook.ipynb",
      "provenance": [],
      "toc_visible": true
    },
    "interpreter": {
      "hash": "af50f9342b8e8b979635af09d75e5858eb36e7abe77b3fbf1231484173d3e927"
    },
    "kernelspec": {
      "display_name": "Python 3.9.4 64-bit ('.venv': venv)",
      "name": "python3"
    },
    "language_info": {
      "codemirror_mode": {
        "name": "ipython",
        "version": 3
      },
      "file_extension": ".py",
      "mimetype": "text/x-python",
      "name": "python",
      "nbconvert_exporter": "python",
      "pygments_lexer": "ipython3",
      "version": "3.9.4"
    },
    "toc": {
      "base_numbering": 1,
      "nav_menu": {},
      "number_sections": true,
      "sideBar": true,
      "skip_h1_title": false,
      "title_cell": "Table of Contents",
      "title_sidebar": "Contents",
      "toc_cell": false,
      "toc_position": {},
      "toc_section_display": true,
      "toc_window_display": false
    }
  },
  "nbformat": 4,
  "nbformat_minor": 0
}
