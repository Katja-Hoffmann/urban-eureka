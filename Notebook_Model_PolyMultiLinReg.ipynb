{
  "cells": [
    {
      "cell_type": "markdown",
      "metadata": {
        "colab_type": "text",
        "id": "g6T5r-RjKYON"
      },
      "source": [
        "# Loading the data\n",
        "Make sure the CSV files provided by Zindi are in the same folder as this notebook. If it's running on Google Colab, you can use the 'files' tab on the left to upload them. We load the training data from Train.csv, and print out the variable descriptions here for easy reference. "
      ]
    },
    {
      "cell_type": "code",
      "execution_count": 1,
      "metadata": {
        "colab": {},
        "colab_type": "code",
        "id": "gV8Fpz7vKYOP"
      },
      "outputs": [],
      "source": [
        "import pandas as pd\n",
        "import numpy as np\n",
        "import os, random, math, glob\n",
        "from IPython.display import Image as IM\n",
        "from IPython.display import clear_output\n",
        "from matplotlib import pyplot as plt\n",
        "%matplotlib inline\n",
        "plt.rcParams['figure.figsize'] = [16, 10]\n",
        "import seaborn as sns\n",
        "from sklearn.model_selection import train_test_split, GridSearchCV\n",
        "from scipy.stats import boxcox\n",
        "from sklearn.linear_model import LinearRegression\n",
        "from sklearn.preprocessing import PolynomialFeatures\n",
        "\n",
        "\n",
        "import warnings\n",
        "warnings.filterwarnings(action='ignore')"
      ]
    },
    {
      "cell_type": "code",
      "execution_count": 2,
      "metadata": {
        "colab": {
          "base_uri": "https://localhost:8080/",
          "height": 309
        },
        "colab_type": "code",
        "id": "gfGrrqGlKYOV",
        "outputId": "c918b49a-67a7-4b1b-81bf-918684a2ca9b"
      },
      "outputs": [
        {
          "data": {
            "text/html": [
              "<div>\n",
              "<style scoped>\n",
              "    .dataframe tbody tr th:only-of-type {\n",
              "        vertical-align: middle;\n",
              "    }\n",
              "\n",
              "    .dataframe tbody tr th {\n",
              "        vertical-align: top;\n",
              "    }\n",
              "\n",
              "    .dataframe thead th {\n",
              "        text-align: right;\n",
              "    }\n",
              "</style>\n",
              "<table border=\"1\" class=\"dataframe\">\n",
              "  <thead>\n",
              "    <tr style=\"text-align: right;\">\n",
              "      <th></th>\n",
              "      <th>ward</th>\n",
              "      <th>total_households</th>\n",
              "      <th>total_individuals</th>\n",
              "      <th>target</th>\n",
              "      <th>dw_00</th>\n",
              "      <th>dw_01</th>\n",
              "      <th>dw_02</th>\n",
              "      <th>dw_03</th>\n",
              "      <th>dw_04</th>\n",
              "      <th>dw_05</th>\n",
              "      <th>...</th>\n",
              "      <th>pw_03</th>\n",
              "      <th>pw_04</th>\n",
              "      <th>pw_05</th>\n",
              "      <th>pw_06</th>\n",
              "      <th>pw_07</th>\n",
              "      <th>pw_08</th>\n",
              "      <th>ADM4_PCODE</th>\n",
              "      <th>lat</th>\n",
              "      <th>lon</th>\n",
              "      <th>NL</th>\n",
              "    </tr>\n",
              "  </thead>\n",
              "  <tbody>\n",
              "    <tr>\n",
              "      <th>0</th>\n",
              "      <td>41601001: Ward 1</td>\n",
              "      <td>1674.45058</td>\n",
              "      <td>5888.20750</td>\n",
              "      <td>16.773757</td>\n",
              "      <td>0.933841</td>\n",
              "      <td>0.000846</td>\n",
              "      <td>0.005490</td>\n",
              "      <td>0.000676</td>\n",
              "      <td>0.000000</td>\n",
              "      <td>0.001372</td>\n",
              "      <td>...</td>\n",
              "      <td>0.002848</td>\n",
              "      <td>0.007537</td>\n",
              "      <td>0.000000</td>\n",
              "      <td>0.012928</td>\n",
              "      <td>0</td>\n",
              "      <td>0</td>\n",
              "      <td>ZA4161001</td>\n",
              "      <td>-29.682270</td>\n",
              "      <td>24.734743</td>\n",
              "      <td>0.292039</td>\n",
              "    </tr>\n",
              "    <tr>\n",
              "      <th>1</th>\n",
              "      <td>41601002: Ward 2</td>\n",
              "      <td>1736.99230</td>\n",
              "      <td>6735.33812</td>\n",
              "      <td>21.496661</td>\n",
              "      <td>0.696940</td>\n",
              "      <td>0.001253</td>\n",
              "      <td>0.004402</td>\n",
              "      <td>0.000000</td>\n",
              "      <td>0.002301</td>\n",
              "      <td>0.001323</td>\n",
              "      <td>...</td>\n",
              "      <td>0.014566</td>\n",
              "      <td>0.057127</td>\n",
              "      <td>0.019092</td>\n",
              "      <td>0.004131</td>\n",
              "      <td>0</td>\n",
              "      <td>0</td>\n",
              "      <td>ZA4161002</td>\n",
              "      <td>-29.119311</td>\n",
              "      <td>24.757737</td>\n",
              "      <td>3.207775</td>\n",
              "    </tr>\n",
              "    <tr>\n",
              "      <th>2</th>\n",
              "      <td>41601003: Ward 3</td>\n",
              "      <td>2403.57591</td>\n",
              "      <td>7273.04995</td>\n",
              "      <td>10.931425</td>\n",
              "      <td>0.810545</td>\n",
              "      <td>0.004517</td>\n",
              "      <td>0.008891</td>\n",
              "      <td>0.003986</td>\n",
              "      <td>0.007735</td>\n",
              "      <td>0.000956</td>\n",
              "      <td>...</td>\n",
              "      <td>0.057560</td>\n",
              "      <td>0.010358</td>\n",
              "      <td>0.001421</td>\n",
              "      <td>0.040881</td>\n",
              "      <td>0</td>\n",
              "      <td>0</td>\n",
              "      <td>ZA4161003</td>\n",
              "      <td>-29.142276</td>\n",
              "      <td>25.094093</td>\n",
              "      <td>0.000000</td>\n",
              "    </tr>\n",
              "    <tr>\n",
              "      <th>3</th>\n",
              "      <td>41601004: Ward 4</td>\n",
              "      <td>1740.78737</td>\n",
              "      <td>5734.49046</td>\n",
              "      <td>23.119257</td>\n",
              "      <td>0.659914</td>\n",
              "      <td>0.000000</td>\n",
              "      <td>0.006129</td>\n",
              "      <td>0.000000</td>\n",
              "      <td>0.000813</td>\n",
              "      <td>0.037245</td>\n",
              "      <td>...</td>\n",
              "      <td>0.000000</td>\n",
              "      <td>0.000669</td>\n",
              "      <td>0.000000</td>\n",
              "      <td>0.005011</td>\n",
              "      <td>0</td>\n",
              "      <td>0</td>\n",
              "      <td>ZA4161004</td>\n",
              "      <td>-29.372052</td>\n",
              "      <td>24.942867</td>\n",
              "      <td>2.038778</td>\n",
              "    </tr>\n",
              "    <tr>\n",
              "      <th>4</th>\n",
              "      <td>41601005: Ward 5</td>\n",
              "      <td>1730.51451</td>\n",
              "      <td>6657.23835</td>\n",
              "      <td>13.652252</td>\n",
              "      <td>0.950575</td>\n",
              "      <td>0.000655</td>\n",
              "      <td>0.001473</td>\n",
              "      <td>0.000598</td>\n",
              "      <td>0.006999</td>\n",
              "      <td>0.000818</td>\n",
              "      <td>...</td>\n",
              "      <td>0.004859</td>\n",
              "      <td>0.001290</td>\n",
              "      <td>0.000673</td>\n",
              "      <td>0.017629</td>\n",
              "      <td>0</td>\n",
              "      <td>0</td>\n",
              "      <td>ZA4161005</td>\n",
              "      <td>-29.409381</td>\n",
              "      <td>25.290165</td>\n",
              "      <td>0.000000</td>\n",
              "    </tr>\n",
              "  </tbody>\n",
              "</table>\n",
              "<p>5 rows × 63 columns</p>\n",
              "</div>"
            ],
            "text/plain": [
              "               ward  total_households  total_individuals     target     dw_00  \\\n",
              "0  41601001: Ward 1        1674.45058         5888.20750  16.773757  0.933841   \n",
              "1  41601002: Ward 2        1736.99230         6735.33812  21.496661  0.696940   \n",
              "2  41601003: Ward 3        2403.57591         7273.04995  10.931425  0.810545   \n",
              "3  41601004: Ward 4        1740.78737         5734.49046  23.119257  0.659914   \n",
              "4  41601005: Ward 5        1730.51451         6657.23835  13.652252  0.950575   \n",
              "\n",
              "      dw_01     dw_02     dw_03     dw_04     dw_05  ...     pw_03     pw_04  \\\n",
              "0  0.000846  0.005490  0.000676  0.000000  0.001372  ...  0.002848  0.007537   \n",
              "1  0.001253  0.004402  0.000000  0.002301  0.001323  ...  0.014566  0.057127   \n",
              "2  0.004517  0.008891  0.003986  0.007735  0.000956  ...  0.057560  0.010358   \n",
              "3  0.000000  0.006129  0.000000  0.000813  0.037245  ...  0.000000  0.000669   \n",
              "4  0.000655  0.001473  0.000598  0.006999  0.000818  ...  0.004859  0.001290   \n",
              "\n",
              "      pw_05     pw_06  pw_07  pw_08  ADM4_PCODE        lat        lon  \\\n",
              "0  0.000000  0.012928      0      0   ZA4161001 -29.682270  24.734743   \n",
              "1  0.019092  0.004131      0      0   ZA4161002 -29.119311  24.757737   \n",
              "2  0.001421  0.040881      0      0   ZA4161003 -29.142276  25.094093   \n",
              "3  0.000000  0.005011      0      0   ZA4161004 -29.372052  24.942867   \n",
              "4  0.000673  0.017629      0      0   ZA4161005 -29.409381  25.290165   \n",
              "\n",
              "         NL  \n",
              "0  0.292039  \n",
              "1  3.207775  \n",
              "2  0.000000  \n",
              "3  2.038778  \n",
              "4  0.000000  \n",
              "\n",
              "[5 rows x 63 columns]"
            ]
          },
          "execution_count": 2,
          "metadata": {},
          "output_type": "execute_result"
        }
      ],
      "source": [
        "df = pd.read_csv('data/Train.csv')\n",
        "df.head()"
      ]
    },
    {
      "cell_type": "code",
      "execution_count": 3,
      "metadata": {},
      "outputs": [],
      "source": [
        "# Only work with reduced number of features for the first iteration of model-building\n",
        "# These features were found to be highly correlated to the target\n",
        "\n",
        "reduced_feature_list = ['pw_00', 'psa_00', 'car_00', 'pg_03', 'NL', 'lan_00', 'pg_00', 'target']\n",
        "df_red = df[reduced_feature_list]"
      ]
    },
    {
      "cell_type": "code",
      "execution_count": 4,
      "metadata": {},
      "outputs": [
        {
          "data": {
            "text/plain": [
              "(2822, 8)"
            ]
          },
          "execution_count": 4,
          "metadata": {},
          "output_type": "execute_result"
        }
      ],
      "source": [
        "df_red.shape"
      ]
    },
    {
      "cell_type": "code",
      "execution_count": 5,
      "metadata": {},
      "outputs": [],
      "source": [
        "# transform the data --> all zeros should be a very small number\n",
        "def convert_zeros(x):\n",
        "    '''\n",
        "    function to convert zeros to a positive number \n",
        "    so that it can be transformed with the boxcox'''\n",
        "    if x == 0.0:\n",
        "        return 0.0000001\n",
        "    else :\n",
        "        return x\n"
      ]
    },
    {
      "cell_type": "code",
      "execution_count": 6,
      "metadata": {},
      "outputs": [],
      "source": [
        "# Apply our conversion of zeros to the reduced dataset\n",
        "\n",
        "for col in reduced_feature_list:\n",
        "    if col != 'target' and  col != 'psa_00' and col != 'car_00' and col != 'pg_00':\n",
        "        df_red[col] = df_red[col].apply(convert_zeros)\n",
        "        df_red[col] = boxcox(df_red[col])[0].reshape(-1,1);"
      ]
    },
    {
      "cell_type": "code",
      "execution_count": 7,
      "metadata": {},
      "outputs": [
        {
          "data": {
            "text/html": [
              "<div>\n",
              "<style scoped>\n",
              "    .dataframe tbody tr th:only-of-type {\n",
              "        vertical-align: middle;\n",
              "    }\n",
              "\n",
              "    .dataframe tbody tr th {\n",
              "        vertical-align: top;\n",
              "    }\n",
              "\n",
              "    .dataframe thead th {\n",
              "        text-align: right;\n",
              "    }\n",
              "</style>\n",
              "<table border=\"1\" class=\"dataframe\">\n",
              "  <thead>\n",
              "    <tr style=\"text-align: right;\">\n",
              "      <th></th>\n",
              "      <th>pw_00</th>\n",
              "      <th>psa_00</th>\n",
              "      <th>car_00</th>\n",
              "      <th>pg_03</th>\n",
              "      <th>NL</th>\n",
              "      <th>lan_00</th>\n",
              "      <th>pg_00</th>\n",
              "      <th>target</th>\n",
              "    </tr>\n",
              "  </thead>\n",
              "  <tbody>\n",
              "    <tr>\n",
              "      <th>0</th>\n",
              "      <td>-0.284113</td>\n",
              "      <td>0.260191</td>\n",
              "      <td>0.273727</td>\n",
              "      <td>-2.468668</td>\n",
              "      <td>-1.053425</td>\n",
              "      <td>-0.183226</td>\n",
              "      <td>0.357455</td>\n",
              "      <td>16.773757</td>\n",
              "    </tr>\n",
              "    <tr>\n",
              "      <th>1</th>\n",
              "      <td>-0.982978</td>\n",
              "      <td>0.290228</td>\n",
              "      <td>0.144638</td>\n",
              "      <td>-3.780784</td>\n",
              "      <td>1.361363</td>\n",
              "      <td>-0.128422</td>\n",
              "      <td>0.698428</td>\n",
              "      <td>21.496661</td>\n",
              "    </tr>\n",
              "    <tr>\n",
              "      <th>2</th>\n",
              "      <td>-0.951828</td>\n",
              "      <td>0.186435</td>\n",
              "      <td>0.272220</td>\n",
              "      <td>-1.716657</td>\n",
              "      <td>-3.789711</td>\n",
              "      <td>-0.573863</td>\n",
              "      <td>0.672452</td>\n",
              "      <td>10.931425</td>\n",
              "    </tr>\n",
              "    <tr>\n",
              "      <th>3</th>\n",
              "      <td>-0.366754</td>\n",
              "      <td>0.281229</td>\n",
              "      <td>0.127875</td>\n",
              "      <td>-5.967212</td>\n",
              "      <td>0.782549</td>\n",
              "      <td>-0.297017</td>\n",
              "      <td>0.728014</td>\n",
              "      <td>23.119257</td>\n",
              "    </tr>\n",
              "    <tr>\n",
              "      <th>4</th>\n",
              "      <td>-0.249689</td>\n",
              "      <td>0.196687</td>\n",
              "      <td>0.404507</td>\n",
              "      <td>-2.126300</td>\n",
              "      <td>-3.789711</td>\n",
              "      <td>-0.870200</td>\n",
              "      <td>0.753491</td>\n",
              "      <td>13.652252</td>\n",
              "    </tr>\n",
              "  </tbody>\n",
              "</table>\n",
              "</div>"
            ],
            "text/plain": [
              "      pw_00    psa_00    car_00     pg_03        NL    lan_00     pg_00  \\\n",
              "0 -0.284113  0.260191  0.273727 -2.468668 -1.053425 -0.183226  0.357455   \n",
              "1 -0.982978  0.290228  0.144638 -3.780784  1.361363 -0.128422  0.698428   \n",
              "2 -0.951828  0.186435  0.272220 -1.716657 -3.789711 -0.573863  0.672452   \n",
              "3 -0.366754  0.281229  0.127875 -5.967212  0.782549 -0.297017  0.728014   \n",
              "4 -0.249689  0.196687  0.404507 -2.126300 -3.789711 -0.870200  0.753491   \n",
              "\n",
              "      target  \n",
              "0  16.773757  \n",
              "1  21.496661  \n",
              "2  10.931425  \n",
              "3  23.119257  \n",
              "4  13.652252  "
            ]
          },
          "execution_count": 7,
          "metadata": {},
          "output_type": "execute_result"
        }
      ],
      "source": [
        "df_red.head()"
      ]
    },
    {
      "cell_type": "code",
      "execution_count": 8,
      "metadata": {},
      "outputs": [
        {
          "name": "stdout",
          "output_type": "stream",
          "text": [
            "X_train: (2116, 7)\n",
            "y_train: (2116,)\n",
            "X_test: (706, 7)\n",
            "y_test: (706,)\n"
          ]
        }
      ],
      "source": [
        "# Train test split with same random seed\n",
        "# Defining X and y\n",
        "features = df_red.columns.tolist()\n",
        "features.remove('target')\n",
        "X = df[features]\n",
        "y = df_red.target\n",
        "\n",
        "# Splitting the dataset\n",
        "X_train, X_test, y_train, y_test = train_test_split(X, y, test_size=0.25, random_state=150, shuffle=True)\n",
        "\n",
        "# Check the shape of the data sets\n",
        "print(\"X_train:\", X_train.shape)\n",
        "print(\"y_train:\", y_train.shape)\n",
        "print(\"X_test:\", X_test.shape)\n",
        "print(\"y_test:\", y_test.shape)"
      ]
    },
    {
      "cell_type": "code",
      "execution_count": 9,
      "metadata": {},
      "outputs": [
        {
          "data": {
            "text/plain": [
              "LinearRegression()"
            ]
          },
          "execution_count": 9,
          "metadata": {},
          "output_type": "execute_result"
        }
      ],
      "source": [
        "# Build a multiple linear regression model with the data\n",
        "lr = LinearRegression()\n",
        "# fitting the training data\n",
        "lr.fit(X_train,y_train)"
      ]
    },
    {
      "cell_type": "code",
      "execution_count": 10,
      "metadata": {},
      "outputs": [],
      "source": [
        "# define the predictions:\n",
        "y_pred_lin =  lr.predict(X_test)"
      ]
    },
    {
      "cell_type": "code",
      "execution_count": 37,
      "metadata": {},
      "outputs": [
        {
          "data": {
            "text/plain": [
              "array([-5.13887081e+00,  7.38255444e+01, -2.84745915e+01,  1.03716048e+01,\n",
              "       -4.06508867e-02, -1.11414677e+01, -9.99419243e+00])"
            ]
          },
          "execution_count": 37,
          "metadata": {},
          "output_type": "execute_result"
        }
      ],
      "source": [
        "lr.coef_"
      ]
    },
    {
      "cell_type": "code",
      "execution_count": 11,
      "metadata": {},
      "outputs": [],
      "source": [
        "# importing r2_score module\n",
        "from sklearn.metrics import r2_score\n",
        "from sklearn.metrics import mean_squared_error"
      ]
    },
    {
      "cell_type": "code",
      "execution_count": 12,
      "metadata": {},
      "outputs": [
        {
          "name": "stdout",
          "output_type": "stream",
          "text": [
            "r2 score is  0.81\n",
            "mean_sqrd_error is: 19.32\n",
            "root_mean_squared error is: 4.396\n"
          ]
        }
      ],
      "source": [
        "# Evaluate the model (Multiple Linear Regression)\n",
        "\n",
        "# predicting the model fit\n",
        "score = r2_score(y_test,y_pred_lin)\n",
        "print(\"r2 score is \", round(score, 2))\n",
        "print(\"mean_sqrd_error is:\", round(mean_squared_error(y_test, y_pred_lin), 2))\n",
        "print(\"root_mean_squared error is:\", round(np.sqrt(mean_squared_error(y_test, y_pred_lin)), 2))"
      ]
    },
    {
      "cell_type": "code",
      "execution_count": 17,
      "metadata": {},
      "outputs": [
        {
          "name": "stderr",
          "output_type": "stream",
          "text": [
            "/Users/corinna/neuefische/urban-eureka/.venv/lib/python3.9/site-packages/sklearn/linear_model/_base.py:141: FutureWarning: 'normalize' was deprecated in version 1.0 and will be removed in 1.2.\n",
            "If you wish to scale the data, use Pipeline with a StandardScaler in a preprocessing stage. To reproduce the previous behavior:\n",
            "\n",
            "from sklearn.pipeline import make_pipeline\n",
            "\n",
            "model = make_pipeline(StandardScaler(with_mean=False), LinearRegression())\n",
            "\n",
            "If you wish to pass a sample_weight parameter, you need to pass it as a fit parameter to each step of the pipeline as follows:\n",
            "\n",
            "kwargs = {s[0] + '__sample_weight': sample_weight for s in model.steps}\n",
            "model.fit(X, y, **kwargs)\n",
            "\n",
            "\n",
            "  warnings.warn(\n",
            "/Users/corinna/neuefische/urban-eureka/.venv/lib/python3.9/site-packages/sklearn/linear_model/_base.py:141: FutureWarning: 'normalize' was deprecated in version 1.0 and will be removed in 1.2.\n",
            "If you wish to scale the data, use Pipeline with a StandardScaler in a preprocessing stage. To reproduce the previous behavior:\n",
            "\n",
            "from sklearn.pipeline import make_pipeline\n",
            "\n",
            "model = make_pipeline(StandardScaler(with_mean=False), LinearRegression())\n",
            "\n",
            "If you wish to pass a sample_weight parameter, you need to pass it as a fit parameter to each step of the pipeline as follows:\n",
            "\n",
            "kwargs = {s[0] + '__sample_weight': sample_weight for s in model.steps}\n",
            "model.fit(X, y, **kwargs)\n",
            "\n",
            "\n",
            "  warnings.warn(\n",
            "/Users/corinna/neuefische/urban-eureka/.venv/lib/python3.9/site-packages/sklearn/linear_model/_base.py:141: FutureWarning: 'normalize' was deprecated in version 1.0 and will be removed in 1.2.\n",
            "If you wish to scale the data, use Pipeline with a StandardScaler in a preprocessing stage. To reproduce the previous behavior:\n",
            "\n",
            "from sklearn.pipeline import make_pipeline\n",
            "\n",
            "model = make_pipeline(StandardScaler(with_mean=False), LinearRegression())\n",
            "\n",
            "If you wish to pass a sample_weight parameter, you need to pass it as a fit parameter to each step of the pipeline as follows:\n",
            "\n",
            "kwargs = {s[0] + '__sample_weight': sample_weight for s in model.steps}\n",
            "model.fit(X, y, **kwargs)\n",
            "\n",
            "\n",
            "  warnings.warn(\n",
            "/Users/corinna/neuefische/urban-eureka/.venv/lib/python3.9/site-packages/sklearn/linear_model/_base.py:141: FutureWarning: 'normalize' was deprecated in version 1.0 and will be removed in 1.2.\n",
            "If you wish to scale the data, use Pipeline with a StandardScaler in a preprocessing stage. To reproduce the previous behavior:\n",
            "\n",
            "from sklearn.pipeline import make_pipeline\n",
            "\n",
            "model = make_pipeline(StandardScaler(with_mean=False), LinearRegression())\n",
            "\n",
            "If you wish to pass a sample_weight parameter, you need to pass it as a fit parameter to each step of the pipeline as follows:\n",
            "\n",
            "kwargs = {s[0] + '__sample_weight': sample_weight for s in model.steps}\n",
            "model.fit(X, y, **kwargs)\n",
            "\n",
            "\n",
            "  warnings.warn(\n",
            "/Users/corinna/neuefische/urban-eureka/.venv/lib/python3.9/site-packages/sklearn/linear_model/_base.py:141: FutureWarning: 'normalize' was deprecated in version 1.0 and will be removed in 1.2.\n",
            "If you wish to scale the data, use Pipeline with a StandardScaler in a preprocessing stage. To reproduce the previous behavior:\n",
            "\n",
            "from sklearn.pipeline import make_pipeline\n",
            "\n",
            "model = make_pipeline(StandardScaler(with_mean=False), LinearRegression())\n",
            "\n",
            "If you wish to pass a sample_weight parameter, you need to pass it as a fit parameter to each step of the pipeline as follows:\n",
            "\n",
            "kwargs = {s[0] + '__sample_weight': sample_weight for s in model.steps}\n",
            "model.fit(X, y, **kwargs)\n",
            "\n",
            "\n",
            "  warnings.warn(\n",
            "/Users/corinna/neuefische/urban-eureka/.venv/lib/python3.9/site-packages/sklearn/linear_model/_base.py:148: FutureWarning: 'normalize' was deprecated in version 1.0 and will be removed in 1.2. Please leave the normalize parameter to its default value to silence this warning. The default behavior of this estimator is to not do any normalization. If normalization is needed please use sklearn.preprocessing.StandardScaler instead.\n",
            "  warnings.warn(\n",
            "/Users/corinna/neuefische/urban-eureka/.venv/lib/python3.9/site-packages/sklearn/linear_model/_base.py:148: FutureWarning: 'normalize' was deprecated in version 1.0 and will be removed in 1.2. Please leave the normalize parameter to its default value to silence this warning. The default behavior of this estimator is to not do any normalization. If normalization is needed please use sklearn.preprocessing.StandardScaler instead.\n",
            "  warnings.warn(\n",
            "/Users/corinna/neuefische/urban-eureka/.venv/lib/python3.9/site-packages/sklearn/linear_model/_base.py:148: FutureWarning: 'normalize' was deprecated in version 1.0 and will be removed in 1.2. Please leave the normalize parameter to its default value to silence this warning. The default behavior of this estimator is to not do any normalization. If normalization is needed please use sklearn.preprocessing.StandardScaler instead.\n",
            "  warnings.warn(\n",
            "/Users/corinna/neuefische/urban-eureka/.venv/lib/python3.9/site-packages/sklearn/linear_model/_base.py:148: FutureWarning: 'normalize' was deprecated in version 1.0 and will be removed in 1.2. Please leave the normalize parameter to its default value to silence this warning. The default behavior of this estimator is to not do any normalization. If normalization is needed please use sklearn.preprocessing.StandardScaler instead.\n",
            "  warnings.warn(\n",
            "/Users/corinna/neuefische/urban-eureka/.venv/lib/python3.9/site-packages/sklearn/linear_model/_base.py:148: FutureWarning: 'normalize' was deprecated in version 1.0 and will be removed in 1.2. Please leave the normalize parameter to its default value to silence this warning. The default behavior of this estimator is to not do any normalization. If normalization is needed please use sklearn.preprocessing.StandardScaler instead.\n",
            "  warnings.warn(\n",
            "/Users/corinna/neuefische/urban-eureka/.venv/lib/python3.9/site-packages/sklearn/linear_model/_base.py:141: FutureWarning: 'normalize' was deprecated in version 1.0 and will be removed in 1.2.\n",
            "If you wish to scale the data, use Pipeline with a StandardScaler in a preprocessing stage. To reproduce the previous behavior:\n",
            "\n",
            "from sklearn.pipeline import make_pipeline\n",
            "\n",
            "model = make_pipeline(StandardScaler(with_mean=False), LinearRegression())\n",
            "\n",
            "If you wish to pass a sample_weight parameter, you need to pass it as a fit parameter to each step of the pipeline as follows:\n",
            "\n",
            "kwargs = {s[0] + '__sample_weight': sample_weight for s in model.steps}\n",
            "model.fit(X, y, **kwargs)\n",
            "\n",
            "\n",
            "  warnings.warn(\n",
            "/Users/corinna/neuefische/urban-eureka/.venv/lib/python3.9/site-packages/sklearn/linear_model/_base.py:141: FutureWarning: 'normalize' was deprecated in version 1.0 and will be removed in 1.2.\n",
            "If you wish to scale the data, use Pipeline with a StandardScaler in a preprocessing stage. To reproduce the previous behavior:\n",
            "\n",
            "from sklearn.pipeline import make_pipeline\n",
            "\n",
            "model = make_pipeline(StandardScaler(with_mean=False), LinearRegression())\n",
            "\n",
            "If you wish to pass a sample_weight parameter, you need to pass it as a fit parameter to each step of the pipeline as follows:\n",
            "\n",
            "kwargs = {s[0] + '__sample_weight': sample_weight for s in model.steps}\n",
            "model.fit(X, y, **kwargs)\n",
            "\n",
            "\n",
            "  warnings.warn(\n",
            "/Users/corinna/neuefische/urban-eureka/.venv/lib/python3.9/site-packages/sklearn/linear_model/_base.py:141: FutureWarning: 'normalize' was deprecated in version 1.0 and will be removed in 1.2.\n",
            "If you wish to scale the data, use Pipeline with a StandardScaler in a preprocessing stage. To reproduce the previous behavior:\n",
            "\n",
            "from sklearn.pipeline import make_pipeline\n",
            "\n",
            "model = make_pipeline(StandardScaler(with_mean=False), LinearRegression())\n",
            "\n",
            "If you wish to pass a sample_weight parameter, you need to pass it as a fit parameter to each step of the pipeline as follows:\n",
            "\n",
            "kwargs = {s[0] + '__sample_weight': sample_weight for s in model.steps}\n",
            "model.fit(X, y, **kwargs)\n",
            "\n",
            "\n",
            "  warnings.warn(\n",
            "/Users/corinna/neuefische/urban-eureka/.venv/lib/python3.9/site-packages/sklearn/linear_model/_base.py:141: FutureWarning: 'normalize' was deprecated in version 1.0 and will be removed in 1.2.\n",
            "If you wish to scale the data, use Pipeline with a StandardScaler in a preprocessing stage. To reproduce the previous behavior:\n",
            "\n",
            "from sklearn.pipeline import make_pipeline\n",
            "\n",
            "model = make_pipeline(StandardScaler(with_mean=False), LinearRegression())\n",
            "\n",
            "If you wish to pass a sample_weight parameter, you need to pass it as a fit parameter to each step of the pipeline as follows:\n",
            "\n",
            "kwargs = {s[0] + '__sample_weight': sample_weight for s in model.steps}\n",
            "model.fit(X, y, **kwargs)\n",
            "\n",
            "\n",
            "  warnings.warn(\n",
            "/Users/corinna/neuefische/urban-eureka/.venv/lib/python3.9/site-packages/sklearn/linear_model/_base.py:141: FutureWarning: 'normalize' was deprecated in version 1.0 and will be removed in 1.2.\n",
            "If you wish to scale the data, use Pipeline with a StandardScaler in a preprocessing stage. To reproduce the previous behavior:\n",
            "\n",
            "from sklearn.pipeline import make_pipeline\n",
            "\n",
            "model = make_pipeline(StandardScaler(with_mean=False), LinearRegression())\n",
            "\n",
            "If you wish to pass a sample_weight parameter, you need to pass it as a fit parameter to each step of the pipeline as follows:\n",
            "\n",
            "kwargs = {s[0] + '__sample_weight': sample_weight for s in model.steps}\n",
            "model.fit(X, y, **kwargs)\n",
            "\n",
            "\n",
            "  warnings.warn(\n",
            "/Users/corinna/neuefische/urban-eureka/.venv/lib/python3.9/site-packages/sklearn/linear_model/_base.py:148: FutureWarning: 'normalize' was deprecated in version 1.0 and will be removed in 1.2. Please leave the normalize parameter to its default value to silence this warning. The default behavior of this estimator is to not do any normalization. If normalization is needed please use sklearn.preprocessing.StandardScaler instead.\n",
            "  warnings.warn(\n",
            "/Users/corinna/neuefische/urban-eureka/.venv/lib/python3.9/site-packages/sklearn/linear_model/_base.py:148: FutureWarning: 'normalize' was deprecated in version 1.0 and will be removed in 1.2. Please leave the normalize parameter to its default value to silence this warning. The default behavior of this estimator is to not do any normalization. If normalization is needed please use sklearn.preprocessing.StandardScaler instead.\n",
            "  warnings.warn(\n",
            "/Users/corinna/neuefische/urban-eureka/.venv/lib/python3.9/site-packages/sklearn/linear_model/_base.py:148: FutureWarning: 'normalize' was deprecated in version 1.0 and will be removed in 1.2. Please leave the normalize parameter to its default value to silence this warning. The default behavior of this estimator is to not do any normalization. If normalization is needed please use sklearn.preprocessing.StandardScaler instead.\n",
            "  warnings.warn(\n",
            "/Users/corinna/neuefische/urban-eureka/.venv/lib/python3.9/site-packages/sklearn/linear_model/_base.py:148: FutureWarning: 'normalize' was deprecated in version 1.0 and will be removed in 1.2. Please leave the normalize parameter to its default value to silence this warning. The default behavior of this estimator is to not do any normalization. If normalization is needed please use sklearn.preprocessing.StandardScaler instead.\n",
            "  warnings.warn(\n",
            "/Users/corinna/neuefische/urban-eureka/.venv/lib/python3.9/site-packages/sklearn/linear_model/_base.py:148: FutureWarning: 'normalize' was deprecated in version 1.0 and will be removed in 1.2. Please leave the normalize parameter to its default value to silence this warning. The default behavior of this estimator is to not do any normalization. If normalization is needed please use sklearn.preprocessing.StandardScaler instead.\n",
            "  warnings.warn(\n"
          ]
        },
        {
          "data": {
            "text/plain": [
              "GridSearchCV(cv=5, estimator=LinearRegression(), n_jobs=-1,\n",
              "             param_grid={'fit_intercept': [True, False],\n",
              "                         'normalize': [True, False]})"
            ]
          },
          "execution_count": 17,
          "metadata": {},
          "output_type": "execute_result"
        }
      ],
      "source": [
        "# Grid search for Linear Regression\n",
        "\n",
        "# Defining parameter grid (as dictionary)\n",
        "param_grid = {\"fit_intercept\" : [True, False],\n",
        "              \"normalize\" : [True, False]\n",
        "             }\n",
        "\n",
        "# Instantiate gridsearch and define the metric to optimize \n",
        "gs = GridSearchCV(LinearRegression(), param_grid, cv=5, verbose=0, n_jobs=-1)\n",
        "\n",
        "# Fit gridsearch object to data\n",
        "gs.fit(X_train, y_train)"
      ]
    },
    {
      "cell_type": "code",
      "execution_count": 18,
      "metadata": {},
      "outputs": [
        {
          "name": "stdout",
          "output_type": "stream",
          "text": [
            "Best score: 0.821\n",
            "Best parameters: {'fit_intercept': True, 'normalize': True}\n"
          ]
        }
      ],
      "source": [
        "# Evaluate the model (Multiple Linear Regression) --> Grid search\n",
        "# Best score\n",
        "print('Best score:', round(gs.best_score_, 3))\n",
        "\n",
        "# Best parameters\n",
        "print('Best parameters:', gs.best_params_)"
      ]
    },
    {
      "cell_type": "code",
      "execution_count": 20,
      "metadata": {},
      "outputs": [],
      "source": [
        "y_pred_lin_gs = gs.predict(X_test)"
      ]
    },
    {
      "cell_type": "code",
      "execution_count": 21,
      "metadata": {},
      "outputs": [
        {
          "name": "stdout",
          "output_type": "stream",
          "text": [
            "r2 score is  0.81\n",
            "mean_sqrd_error is: 19.32\n",
            "root_mean_squared error is: 4.4\n"
          ]
        }
      ],
      "source": [
        "# Evaluate the model (Multiple Linear Regression) (Grid Search)\n",
        "\n",
        "# predicting the model fit\n",
        "score_lin_gs = r2_score(y_test, y_pred_lin_gs)\n",
        "print(\"r2 score is \", round(score_lin_gs, 2))\n",
        "print(\"mean_sqrd_error is:\", round(mean_squared_error(y_test, y_pred_lin_gs), 2))\n",
        "print(\"root_mean_squared error is:\", round(np.sqrt(mean_squared_error(y_test, y_pred_lin_gs)), 2))"
      ]
    },
    {
      "cell_type": "code",
      "execution_count": null,
      "metadata": {},
      "outputs": [],
      "source": [
        "# Linear Regression with 2nd degree Polynomial Features\n",
        "\n",
        "poly = PolynomialFeatures(2)\n",
        "X_train_poly = poly.fit_transform(X_train)\n",
        "X_test_poly = poly.transform(X_test)\n",
        "#y_train_poly = poly.fit_transform(y_train)\n",
        "\n",
        "model_poly = LinearRegression()\n",
        "model_poly.fit(X_train_poly, y_train)\n",
        "y_pred_poly = model_poly.predict(X_test_poly)"
      ]
    },
    {
      "cell_type": "code",
      "execution_count": null,
      "metadata": {},
      "outputs": [],
      "source": [
        "# Evaluate the model (2nd degree Polynomial)\n",
        "\n",
        "# predicting the model fit\n",
        "score_poly = r2_score(y_test, y_pred_poly)\n",
        "print(\"r2 score is \", round(score_poly, 2))\n",
        "print(\"mean_sqrd_error is:\", round(mean_squared_error(y_test, y_pred_poly), 2))\n",
        "print(\"root_mean_squared error is:\", round(np.sqrt(mean_squared_error(y_test, y_pred_poly)), 2))"
      ]
    },
    {
      "cell_type": "code",
      "execution_count": 25,
      "metadata": {},
      "outputs": [],
      "source": [
        "# Linear Regression with 2nd degree Polynomial Features with interactions\n",
        "\n",
        "poly2 = PolynomialFeatures(2, interaction_only=True)\n",
        "X_train_poly2 = poly2.fit_transform(X_train)\n",
        "X_test_poly2 = poly2.transform(X_test)\n",
        "#y_train_poly = poly.fit_transform(y_train)\n",
        "\n",
        "model_poly2 = LinearRegression()\n",
        "model_poly2.fit(X_train_poly2, y_train)\n",
        "y_pred_poly2 = model_poly2.predict(X_test_poly2)"
      ]
    },
    {
      "cell_type": "code",
      "execution_count": 26,
      "metadata": {},
      "outputs": [
        {
          "name": "stdout",
          "output_type": "stream",
          "text": [
            "r2 score is  0.83\n",
            "mean_sqrd_error is: 17.96\n",
            "root_mean_squared error is: 4.24\n"
          ]
        }
      ],
      "source": [
        "# Evaluate the model (2nd degree Polynomial with interactions)\n",
        "\n",
        "# predicting the model fit\n",
        "score_poly2 = r2_score(y_test, y_pred_poly2)\n",
        "print(\"r2 score is \", round(score_poly2, 2))\n",
        "print(\"mean_sqrd_error is:\", round(mean_squared_error(y_test, y_pred_poly2), 2))\n",
        "print(\"root_mean_squared error is:\", round(np.sqrt(mean_squared_error(y_test, y_pred_poly2)), 2))"
      ]
    },
    {
      "cell_type": "code",
      "execution_count": 22,
      "metadata": {},
      "outputs": [
        {
          "name": "stderr",
          "output_type": "stream",
          "text": [
            "/Users/corinna/neuefische/urban-eureka/.venv/lib/python3.9/site-packages/sklearn/linear_model/_base.py:141: FutureWarning: 'normalize' was deprecated in version 1.0 and will be removed in 1.2.\n",
            "If you wish to scale the data, use Pipeline with a StandardScaler in a preprocessing stage. To reproduce the previous behavior:\n",
            "\n",
            "from sklearn.pipeline import make_pipeline\n",
            "\n",
            "model = make_pipeline(StandardScaler(with_mean=False), LinearRegression())\n",
            "\n",
            "If you wish to pass a sample_weight parameter, you need to pass it as a fit parameter to each step of the pipeline as follows:\n",
            "\n",
            "kwargs = {s[0] + '__sample_weight': sample_weight for s in model.steps}\n",
            "model.fit(X, y, **kwargs)\n",
            "\n",
            "\n",
            "  warnings.warn(\n",
            "/Users/corinna/neuefische/urban-eureka/.venv/lib/python3.9/site-packages/sklearn/linear_model/_base.py:141: FutureWarning: 'normalize' was deprecated in version 1.0 and will be removed in 1.2.\n",
            "If you wish to scale the data, use Pipeline with a StandardScaler in a preprocessing stage. To reproduce the previous behavior:\n",
            "\n",
            "from sklearn.pipeline import make_pipeline\n",
            "\n",
            "model = make_pipeline(StandardScaler(with_mean=False), LinearRegression())\n",
            "\n",
            "If you wish to pass a sample_weight parameter, you need to pass it as a fit parameter to each step of the pipeline as follows:\n",
            "\n",
            "kwargs = {s[0] + '__sample_weight': sample_weight for s in model.steps}\n",
            "model.fit(X, y, **kwargs)\n",
            "\n",
            "\n",
            "  warnings.warn(\n",
            "/Users/corinna/neuefische/urban-eureka/.venv/lib/python3.9/site-packages/sklearn/linear_model/_base.py:148: FutureWarning: 'normalize' was deprecated in version 1.0 and will be removed in 1.2. Please leave the normalize parameter to its default value to silence this warning. The default behavior of this estimator is to not do any normalization. If normalization is needed please use sklearn.preprocessing.StandardScaler instead.\n",
            "  warnings.warn(\n",
            "/Users/corinna/neuefische/urban-eureka/.venv/lib/python3.9/site-packages/sklearn/linear_model/_base.py:141: FutureWarning: 'normalize' was deprecated in version 1.0 and will be removed in 1.2.\n",
            "If you wish to scale the data, use Pipeline with a StandardScaler in a preprocessing stage. To reproduce the previous behavior:\n",
            "\n",
            "from sklearn.pipeline import make_pipeline\n",
            "\n",
            "model = make_pipeline(StandardScaler(with_mean=False), LinearRegression())\n",
            "\n",
            "If you wish to pass a sample_weight parameter, you need to pass it as a fit parameter to each step of the pipeline as follows:\n",
            "\n",
            "kwargs = {s[0] + '__sample_weight': sample_weight for s in model.steps}\n",
            "model.fit(X, y, **kwargs)\n",
            "\n",
            "\n",
            "  warnings.warn(\n",
            "/Users/corinna/neuefische/urban-eureka/.venv/lib/python3.9/site-packages/sklearn/linear_model/_base.py:148: FutureWarning: 'normalize' was deprecated in version 1.0 and will be removed in 1.2. Please leave the normalize parameter to its default value to silence this warning. The default behavior of this estimator is to not do any normalization. If normalization is needed please use sklearn.preprocessing.StandardScaler instead.\n",
            "  warnings.warn(\n",
            "/Users/corinna/neuefische/urban-eureka/.venv/lib/python3.9/site-packages/sklearn/linear_model/_base.py:141: FutureWarning: 'normalize' was deprecated in version 1.0 and will be removed in 1.2.\n",
            "If you wish to scale the data, use Pipeline with a StandardScaler in a preprocessing stage. To reproduce the previous behavior:\n",
            "\n",
            "from sklearn.pipeline import make_pipeline\n",
            "\n",
            "model = make_pipeline(StandardScaler(with_mean=False), LinearRegression())\n",
            "\n",
            "If you wish to pass a sample_weight parameter, you need to pass it as a fit parameter to each step of the pipeline as follows:\n",
            "\n",
            "kwargs = {s[0] + '__sample_weight': sample_weight for s in model.steps}\n",
            "model.fit(X, y, **kwargs)\n",
            "\n",
            "\n",
            "  warnings.warn(\n",
            "/Users/corinna/neuefische/urban-eureka/.venv/lib/python3.9/site-packages/sklearn/linear_model/_base.py:148: FutureWarning: 'normalize' was deprecated in version 1.0 and will be removed in 1.2. Please leave the normalize parameter to its default value to silence this warning. The default behavior of this estimator is to not do any normalization. If normalization is needed please use sklearn.preprocessing.StandardScaler instead.\n",
            "  warnings.warn(\n",
            "/Users/corinna/neuefische/urban-eureka/.venv/lib/python3.9/site-packages/sklearn/linear_model/_base.py:141: FutureWarning: 'normalize' was deprecated in version 1.0 and will be removed in 1.2.\n",
            "If you wish to scale the data, use Pipeline with a StandardScaler in a preprocessing stage. To reproduce the previous behavior:\n",
            "\n",
            "from sklearn.pipeline import make_pipeline\n",
            "\n",
            "model = make_pipeline(StandardScaler(with_mean=False), LinearRegression())\n",
            "\n",
            "If you wish to pass a sample_weight parameter, you need to pass it as a fit parameter to each step of the pipeline as follows:\n",
            "\n",
            "kwargs = {s[0] + '__sample_weight': sample_weight for s in model.steps}\n",
            "model.fit(X, y, **kwargs)\n",
            "\n",
            "\n",
            "  warnings.warn(\n",
            "/Users/corinna/neuefische/urban-eureka/.venv/lib/python3.9/site-packages/sklearn/linear_model/_base.py:148: FutureWarning: 'normalize' was deprecated in version 1.0 and will be removed in 1.2. Please leave the normalize parameter to its default value to silence this warning. The default behavior of this estimator is to not do any normalization. If normalization is needed please use sklearn.preprocessing.StandardScaler instead.\n",
            "  warnings.warn(\n",
            "/Users/corinna/neuefische/urban-eureka/.venv/lib/python3.9/site-packages/sklearn/linear_model/_base.py:148: FutureWarning: 'normalize' was deprecated in version 1.0 and will be removed in 1.2. Please leave the normalize parameter to its default value to silence this warning. The default behavior of this estimator is to not do any normalization. If normalization is needed please use sklearn.preprocessing.StandardScaler instead.\n",
            "  warnings.warn(\n",
            "/Users/corinna/neuefische/urban-eureka/.venv/lib/python3.9/site-packages/sklearn/linear_model/_base.py:141: FutureWarning: 'normalize' was deprecated in version 1.0 and will be removed in 1.2.\n",
            "If you wish to scale the data, use Pipeline with a StandardScaler in a preprocessing stage. To reproduce the previous behavior:\n",
            "\n",
            "from sklearn.pipeline import make_pipeline\n",
            "\n",
            "model = make_pipeline(StandardScaler(with_mean=False), LinearRegression())\n",
            "\n",
            "If you wish to pass a sample_weight parameter, you need to pass it as a fit parameter to each step of the pipeline as follows:\n",
            "\n",
            "kwargs = {s[0] + '__sample_weight': sample_weight for s in model.steps}\n",
            "model.fit(X, y, **kwargs)\n",
            "\n",
            "\n",
            "  warnings.warn(\n",
            "/Users/corinna/neuefische/urban-eureka/.venv/lib/python3.9/site-packages/sklearn/linear_model/_base.py:141: FutureWarning: 'normalize' was deprecated in version 1.0 and will be removed in 1.2.\n",
            "If you wish to scale the data, use Pipeline with a StandardScaler in a preprocessing stage. To reproduce the previous behavior:\n",
            "\n",
            "from sklearn.pipeline import make_pipeline\n",
            "\n",
            "model = make_pipeline(StandardScaler(with_mean=False), LinearRegression())\n",
            "\n",
            "If you wish to pass a sample_weight parameter, you need to pass it as a fit parameter to each step of the pipeline as follows:\n",
            "\n",
            "kwargs = {s[0] + '__sample_weight': sample_weight for s in model.steps}\n",
            "model.fit(X, y, **kwargs)\n",
            "\n",
            "\n",
            "  warnings.warn(\n",
            "/Users/corinna/neuefische/urban-eureka/.venv/lib/python3.9/site-packages/sklearn/linear_model/_base.py:141: FutureWarning: 'normalize' was deprecated in version 1.0 and will be removed in 1.2.\n",
            "If you wish to scale the data, use Pipeline with a StandardScaler in a preprocessing stage. To reproduce the previous behavior:\n",
            "\n",
            "from sklearn.pipeline import make_pipeline\n",
            "\n",
            "model = make_pipeline(StandardScaler(with_mean=False), LinearRegression())\n",
            "\n",
            "If you wish to pass a sample_weight parameter, you need to pass it as a fit parameter to each step of the pipeline as follows:\n",
            "\n",
            "kwargs = {s[0] + '__sample_weight': sample_weight for s in model.steps}\n",
            "model.fit(X, y, **kwargs)\n",
            "\n",
            "\n",
            "  warnings.warn(\n",
            "/Users/corinna/neuefische/urban-eureka/.venv/lib/python3.9/site-packages/sklearn/linear_model/_base.py:141: FutureWarning: 'normalize' was deprecated in version 1.0 and will be removed in 1.2.\n",
            "If you wish to scale the data, use Pipeline with a StandardScaler in a preprocessing stage. To reproduce the previous behavior:\n",
            "\n",
            "from sklearn.pipeline import make_pipeline\n",
            "\n",
            "model = make_pipeline(StandardScaler(with_mean=False), LinearRegression())\n",
            "\n",
            "If you wish to pass a sample_weight parameter, you need to pass it as a fit parameter to each step of the pipeline as follows:\n",
            "\n",
            "kwargs = {s[0] + '__sample_weight': sample_weight for s in model.steps}\n",
            "model.fit(X, y, **kwargs)\n",
            "\n",
            "\n",
            "  warnings.warn(\n",
            "/Users/corinna/neuefische/urban-eureka/.venv/lib/python3.9/site-packages/sklearn/linear_model/_base.py:141: FutureWarning: 'normalize' was deprecated in version 1.0 and will be removed in 1.2.\n",
            "If you wish to scale the data, use Pipeline with a StandardScaler in a preprocessing stage. To reproduce the previous behavior:\n",
            "\n",
            "from sklearn.pipeline import make_pipeline\n",
            "\n",
            "model = make_pipeline(StandardScaler(with_mean=False), LinearRegression())\n",
            "\n",
            "If you wish to pass a sample_weight parameter, you need to pass it as a fit parameter to each step of the pipeline as follows:\n",
            "\n",
            "kwargs = {s[0] + '__sample_weight': sample_weight for s in model.steps}\n",
            "model.fit(X, y, **kwargs)\n",
            "\n",
            "\n",
            "  warnings.warn(\n",
            "/Users/corinna/neuefische/urban-eureka/.venv/lib/python3.9/site-packages/sklearn/linear_model/_base.py:148: FutureWarning: 'normalize' was deprecated in version 1.0 and will be removed in 1.2. Please leave the normalize parameter to its default value to silence this warning. The default behavior of this estimator is to not do any normalization. If normalization is needed please use sklearn.preprocessing.StandardScaler instead.\n",
            "  warnings.warn(\n",
            "/Users/corinna/neuefische/urban-eureka/.venv/lib/python3.9/site-packages/sklearn/linear_model/_base.py:148: FutureWarning: 'normalize' was deprecated in version 1.0 and will be removed in 1.2. Please leave the normalize parameter to its default value to silence this warning. The default behavior of this estimator is to not do any normalization. If normalization is needed please use sklearn.preprocessing.StandardScaler instead.\n",
            "  warnings.warn(\n",
            "/Users/corinna/neuefische/urban-eureka/.venv/lib/python3.9/site-packages/sklearn/linear_model/_base.py:148: FutureWarning: 'normalize' was deprecated in version 1.0 and will be removed in 1.2. Please leave the normalize parameter to its default value to silence this warning. The default behavior of this estimator is to not do any normalization. If normalization is needed please use sklearn.preprocessing.StandardScaler instead.\n",
            "  warnings.warn(\n",
            "/Users/corinna/neuefische/urban-eureka/.venv/lib/python3.9/site-packages/sklearn/linear_model/_base.py:148: FutureWarning: 'normalize' was deprecated in version 1.0 and will be removed in 1.2. Please leave the normalize parameter to its default value to silence this warning. The default behavior of this estimator is to not do any normalization. If normalization is needed please use sklearn.preprocessing.StandardScaler instead.\n",
            "  warnings.warn(\n",
            "/Users/corinna/neuefische/urban-eureka/.venv/lib/python3.9/site-packages/sklearn/linear_model/_base.py:148: FutureWarning: 'normalize' was deprecated in version 1.0 and will be removed in 1.2. Please leave the normalize parameter to its default value to silence this warning. The default behavior of this estimator is to not do any normalization. If normalization is needed please use sklearn.preprocessing.StandardScaler instead.\n",
            "  warnings.warn(\n"
          ]
        },
        {
          "data": {
            "text/plain": [
              "GridSearchCV(cv=5, estimator=LinearRegression(), n_jobs=-1,\n",
              "             param_grid={'fit_intercept': [True, False],\n",
              "                         'normalize': [True, False]})"
            ]
          },
          "execution_count": 22,
          "metadata": {},
          "output_type": "execute_result"
        }
      ],
      "source": [
        "# Grid search for Polynomial Regression\n",
        "poly2 = PolynomialFeatures(2, interaction_only=True)\n",
        "X_train_poly2 = poly2.fit_transform(X_train)\n",
        "X_test_poly2 = poly2.transform(X_test)\n",
        "\n",
        "\n",
        "# Defining parameter grid (as dictionary)\n",
        "param_grid = {\"fit_intercept\" : [True, False],\n",
        "              \"normalize\" : [True, False]\n",
        "             }\n",
        "\n",
        "# Instantiate gridsearch and define the metric to optimize \n",
        "gs_poly = GridSearchCV(LinearRegression(), param_grid, cv=5, verbose=0, n_jobs=-1)\n",
        "\n",
        "# Fit gridsearch object to data\n",
        "gs_poly.fit(X_train_poly2, y_train)"
      ]
    },
    {
      "cell_type": "code",
      "execution_count": 23,
      "metadata": {},
      "outputs": [
        {
          "name": "stdout",
          "output_type": "stream",
          "text": [
            "Best score: 0.837\n",
            "Best parameters: {'fit_intercept': False, 'normalize': True}\n"
          ]
        }
      ],
      "source": [
        "# Evaluate the model (Multiple Linear Regression) --> Grid search\n",
        "# Best score\n",
        "print('Best score:', round(gs_poly.best_score_, 3))\n",
        "\n",
        "# Best parameters\n",
        "print('Best parameters:', gs_poly.best_params_)"
      ]
    },
    {
      "cell_type": "code",
      "execution_count": 24,
      "metadata": {},
      "outputs": [
        {
          "name": "stdout",
          "output_type": "stream",
          "text": [
            "r2 score is  0.83\n",
            "mean_sqrd_error is: 17.64\n",
            "root_mean_squared error is: 4.2\n"
          ]
        }
      ],
      "source": [
        "y_pred_poly_gs = gs_poly.predict(X_test_poly2)\n",
        "\n",
        "# Evaluate the model (2nd degree Polynomial with interactions)\n",
        "\n",
        "# predicting the model fit\n",
        "score_poly2_gs = r2_score(y_test, y_pred_poly_gs)\n",
        "print(\"r2 score is \", round(score_poly2_gs, 2))\n",
        "print(\"mean_sqrd_error is:\", round(mean_squared_error(y_test, y_pred_poly_gs), 2))\n",
        "print(\"root_mean_squared error is:\", round(np.sqrt(mean_squared_error(y_test, y_pred_poly_gs)), 2))"
      ]
    },
    {
      "cell_type": "code",
      "execution_count": null,
      "metadata": {},
      "outputs": [],
      "source": [
        "# Linear Regression with 3rd degree Polynomial Features\n",
        "\n",
        "poly3 = PolynomialFeatures(3)\n",
        "X_train_poly3 = poly3.fit_transform(X_train)\n",
        "X_test_poly3 = poly3.transform(X_test)\n",
        "#y_train_poly = poly.fit_transform(y_train)\n",
        "\n",
        "model_poly3 = LinearRegression()\n",
        "model_poly3.fit(X_train_poly3, y_train)\n",
        "y_pred_poly3 = model_poly3.predict(X_test_poly3)"
      ]
    },
    {
      "cell_type": "code",
      "execution_count": null,
      "metadata": {},
      "outputs": [],
      "source": [
        "# Evaluate the model (3rd degree Polynomial)\n",
        "\n",
        "# predicting the model fit\n",
        "score_poly3 = r2_score(y_test, y_pred_poly3)\n",
        "print(\"r2 score is \", round(score_poly3, 2))\n",
        "print(\"mean_sqrd_error is:\", round(mean_squared_error(y_test, y_pred_poly3), 2))\n",
        "print(\"root_mean_squared error is:\", round(np.sqrt(mean_squared_error(y_test, y_pred_poly3)), 2))"
      ]
    },
    {
      "cell_type": "code",
      "execution_count": 36,
      "metadata": {},
      "outputs": [
        {
          "data": {
            "text/plain": [
              "<matplotlib.collections.PathCollection at 0x12c49d3a0>"
            ]
          },
          "execution_count": 36,
          "metadata": {},
          "output_type": "execute_result"
        },
        {
          "data": {
            "image/png": "[encoded data removed]",
            "text/plain": [
              "<Figure size 1152x720 with 1 Axes>"
            ]
          },
          "metadata": {
            "needs_background": "light"
          },
          "output_type": "display_data"
        }
      ],
      "source": [
        "# plotting the errors\n",
        "\n",
        "plt.scatter(np.arange(len(y_test)), (y_pred_lin-y_test))"
      ]
    }
  ],
  "metadata": {
    "colab": {
      "collapsed_sections": [],
      "name": "Starter Notebook.ipynb",
      "provenance": [],
      "toc_visible": true
    },
    "interpreter": {
      "hash": "c5e103839d1a4835fab133c5358d962e3c265baf0daf205d5e854c5fa8e2de52"
    },
    "kernelspec": {
      "display_name": "Python 3.9.4 64-bit ('.venv': venv)",
      "name": "python3"
    },
    "language_info": {
      "codemirror_mode": {
        "name": "ipython",
        "version": 3
      },
      "file_extension": ".py",
      "mimetype": "text/x-python",
      "name": "python",
      "nbconvert_exporter": "python",
      "pygments_lexer": "ipython3",
      "version": "3.9.4"
    },
    "toc": {
      "base_numbering": 1,
      "nav_menu": {},
      "number_sections": true,
      "sideBar": true,
      "skip_h1_title": false,
      "title_cell": "Table of Contents",
      "title_sidebar": "Contents",
      "toc_cell": false,
      "toc_position": {},
      "toc_section_display": true,
      "toc_window_display": false
    }
  },
  "nbformat": 4,
  "nbformat_minor": 0
}
