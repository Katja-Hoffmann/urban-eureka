{
  "cells": [
    {
      "cell_type": "markdown",
      "source": [
        "# Loading the data\n",
        "Make sure the CSV files provided by Zindi are in the same folder as this notebook. If it's running on Google Colab, you can use the 'files' tab on the left to upload them. We load the training data from Train.csv, and print out the variable descriptions here for easy reference. "
      ],
      "metadata": {
        "colab_type": "text",
        "id": "g6T5r-RjKYON"
      }
    },
    {
      "cell_type": "code",
      "execution_count": 43,
      "source": [
        "import pandas as pd\n",
        "import numpy as np\n",
        "import os, random, math, glob\n",
        "from IPython.display import Image as IM\n",
        "from IPython.display import clear_output\n",
        "from matplotlib import pyplot as plt\n",
        "%matplotlib inline\n",
        "plt.rcParams['figure.figsize'] = [16, 10]\n",
        "import seaborn as sns\n",
        "from sklearn.model_selection import train_test_split\n",
        "from scipy.stats import boxcox\n",
        "\n",
        "from sklearn.linear_model import Ridge, Lasso\n",
        "from sklearn.metrics import mean_squared_error, r2_score\n",
        "from sklearn.model_selection import GridSearchCV, RandomizedSearchCV"
      ],
      "outputs": [],
      "metadata": {
        "colab": {},
        "colab_type": "code",
        "id": "gV8Fpz7vKYOP"
      }
    },
    {
      "cell_type": "code",
      "execution_count": 13,
      "source": [
        "df = pd.read_csv('data/Train.csv')\n",
        "df.head()"
      ],
      "outputs": [
        {
          "output_type": "execute_result",
          "data": {
            "text/html": [
              "<div>\n",
              "<style scoped>\n",
              "    .dataframe tbody tr th:only-of-type {\n",
              "        vertical-align: middle;\n",
              "    }\n",
              "\n",
              "    .dataframe tbody tr th {\n",
              "        vertical-align: top;\n",
              "    }\n",
              "\n",
              "    .dataframe thead th {\n",
              "        text-align: right;\n",
              "    }\n",
              "</style>\n",
              "<table border=\"1\" class=\"dataframe\">\n",
              "  <thead>\n",
              "    <tr style=\"text-align: right;\">\n",
              "      <th></th>\n",
              "      <th>ward</th>\n",
              "      <th>total_households</th>\n",
              "      <th>total_individuals</th>\n",
              "      <th>target</th>\n",
              "      <th>dw_00</th>\n",
              "      <th>dw_01</th>\n",
              "      <th>dw_02</th>\n",
              "      <th>dw_03</th>\n",
              "      <th>dw_04</th>\n",
              "      <th>dw_05</th>\n",
              "      <th>...</th>\n",
              "      <th>pw_03</th>\n",
              "      <th>pw_04</th>\n",
              "      <th>pw_05</th>\n",
              "      <th>pw_06</th>\n",
              "      <th>pw_07</th>\n",
              "      <th>pw_08</th>\n",
              "      <th>ADM4_PCODE</th>\n",
              "      <th>lat</th>\n",
              "      <th>lon</th>\n",
              "      <th>NL</th>\n",
              "    </tr>\n",
              "  </thead>\n",
              "  <tbody>\n",
              "    <tr>\n",
              "      <th>0</th>\n",
              "      <td>41601001: Ward 1</td>\n",
              "      <td>1674.45058</td>\n",
              "      <td>5888.20750</td>\n",
              "      <td>16.773757</td>\n",
              "      <td>0.933841</td>\n",
              "      <td>0.000846</td>\n",
              "      <td>0.005490</td>\n",
              "      <td>0.000676</td>\n",
              "      <td>0.000000</td>\n",
              "      <td>0.001372</td>\n",
              "      <td>...</td>\n",
              "      <td>0.002848</td>\n",
              "      <td>0.007537</td>\n",
              "      <td>0.000000</td>\n",
              "      <td>0.012928</td>\n",
              "      <td>0</td>\n",
              "      <td>0</td>\n",
              "      <td>ZA4161001</td>\n",
              "      <td>-29.682270</td>\n",
              "      <td>24.734743</td>\n",
              "      <td>0.292039</td>\n",
              "    </tr>\n",
              "    <tr>\n",
              "      <th>1</th>\n",
              "      <td>41601002: Ward 2</td>\n",
              "      <td>1736.99230</td>\n",
              "      <td>6735.33812</td>\n",
              "      <td>21.496661</td>\n",
              "      <td>0.696940</td>\n",
              "      <td>0.001253</td>\n",
              "      <td>0.004402</td>\n",
              "      <td>0.000000</td>\n",
              "      <td>0.002301</td>\n",
              "      <td>0.001323</td>\n",
              "      <td>...</td>\n",
              "      <td>0.014566</td>\n",
              "      <td>0.057127</td>\n",
              "      <td>0.019092</td>\n",
              "      <td>0.004131</td>\n",
              "      <td>0</td>\n",
              "      <td>0</td>\n",
              "      <td>ZA4161002</td>\n",
              "      <td>-29.119311</td>\n",
              "      <td>24.757737</td>\n",
              "      <td>3.207775</td>\n",
              "    </tr>\n",
              "    <tr>\n",
              "      <th>2</th>\n",
              "      <td>41601003: Ward 3</td>\n",
              "      <td>2403.57591</td>\n",
              "      <td>7273.04995</td>\n",
              "      <td>10.931425</td>\n",
              "      <td>0.810545</td>\n",
              "      <td>0.004517</td>\n",
              "      <td>0.008891</td>\n",
              "      <td>0.003986</td>\n",
              "      <td>0.007735</td>\n",
              "      <td>0.000956</td>\n",
              "      <td>...</td>\n",
              "      <td>0.057560</td>\n",
              "      <td>0.010358</td>\n",
              "      <td>0.001421</td>\n",
              "      <td>0.040881</td>\n",
              "      <td>0</td>\n",
              "      <td>0</td>\n",
              "      <td>ZA4161003</td>\n",
              "      <td>-29.142276</td>\n",
              "      <td>25.094093</td>\n",
              "      <td>0.000000</td>\n",
              "    </tr>\n",
              "    <tr>\n",
              "      <th>3</th>\n",
              "      <td>41601004: Ward 4</td>\n",
              "      <td>1740.78737</td>\n",
              "      <td>5734.49046</td>\n",
              "      <td>23.119257</td>\n",
              "      <td>0.659914</td>\n",
              "      <td>0.000000</td>\n",
              "      <td>0.006129</td>\n",
              "      <td>0.000000</td>\n",
              "      <td>0.000813</td>\n",
              "      <td>0.037245</td>\n",
              "      <td>...</td>\n",
              "      <td>0.000000</td>\n",
              "      <td>0.000669</td>\n",
              "      <td>0.000000</td>\n",
              "      <td>0.005011</td>\n",
              "      <td>0</td>\n",
              "      <td>0</td>\n",
              "      <td>ZA4161004</td>\n",
              "      <td>-29.372052</td>\n",
              "      <td>24.942867</td>\n",
              "      <td>2.038778</td>\n",
              "    </tr>\n",
              "    <tr>\n",
              "      <th>4</th>\n",
              "      <td>41601005: Ward 5</td>\n",
              "      <td>1730.51451</td>\n",
              "      <td>6657.23835</td>\n",
              "      <td>13.652252</td>\n",
              "      <td>0.950575</td>\n",
              "      <td>0.000655</td>\n",
              "      <td>0.001473</td>\n",
              "      <td>0.000598</td>\n",
              "      <td>0.006999</td>\n",
              "      <td>0.000818</td>\n",
              "      <td>...</td>\n",
              "      <td>0.004859</td>\n",
              "      <td>0.001290</td>\n",
              "      <td>0.000673</td>\n",
              "      <td>0.017629</td>\n",
              "      <td>0</td>\n",
              "      <td>0</td>\n",
              "      <td>ZA4161005</td>\n",
              "      <td>-29.409381</td>\n",
              "      <td>25.290165</td>\n",
              "      <td>0.000000</td>\n",
              "    </tr>\n",
              "  </tbody>\n",
              "</table>\n",
              "<p>5 rows × 63 columns</p>\n",
              "</div>"
            ],
            "text/plain": [
              "               ward  total_households  total_individuals     target     dw_00  \\\n",
              "0  41601001: Ward 1        1674.45058         5888.20750  16.773757  0.933841   \n",
              "1  41601002: Ward 2        1736.99230         6735.33812  21.496661  0.696940   \n",
              "2  41601003: Ward 3        2403.57591         7273.04995  10.931425  0.810545   \n",
              "3  41601004: Ward 4        1740.78737         5734.49046  23.119257  0.659914   \n",
              "4  41601005: Ward 5        1730.51451         6657.23835  13.652252  0.950575   \n",
              "\n",
              "      dw_01     dw_02     dw_03     dw_04     dw_05  ...     pw_03     pw_04  \\\n",
              "0  0.000846  0.005490  0.000676  0.000000  0.001372  ...  0.002848  0.007537   \n",
              "1  0.001253  0.004402  0.000000  0.002301  0.001323  ...  0.014566  0.057127   \n",
              "2  0.004517  0.008891  0.003986  0.007735  0.000956  ...  0.057560  0.010358   \n",
              "3  0.000000  0.006129  0.000000  0.000813  0.037245  ...  0.000000  0.000669   \n",
              "4  0.000655  0.001473  0.000598  0.006999  0.000818  ...  0.004859  0.001290   \n",
              "\n",
              "      pw_05     pw_06  pw_07  pw_08  ADM4_PCODE        lat        lon  \\\n",
              "0  0.000000  0.012928      0      0   ZA4161001 -29.682270  24.734743   \n",
              "1  0.019092  0.004131      0      0   ZA4161002 -29.119311  24.757737   \n",
              "2  0.001421  0.040881      0      0   ZA4161003 -29.142276  25.094093   \n",
              "3  0.000000  0.005011      0      0   ZA4161004 -29.372052  24.942867   \n",
              "4  0.000673  0.017629      0      0   ZA4161005 -29.409381  25.290165   \n",
              "\n",
              "         NL  \n",
              "0  0.292039  \n",
              "1  3.207775  \n",
              "2  0.000000  \n",
              "3  2.038778  \n",
              "4  0.000000  \n",
              "\n",
              "[5 rows x 63 columns]"
            ]
          },
          "metadata": {},
          "execution_count": 13
        }
      ],
      "metadata": {
        "colab": {
          "base_uri": "https://localhost:8080/",
          "height": 309
        },
        "colab_type": "code",
        "id": "gfGrrqGlKYOV",
        "outputId": "c918b49a-67a7-4b1b-81bf-918684a2ca9b"
      }
    },
    {
      "cell_type": "code",
      "execution_count": 14,
      "source": [
        "df.info()"
      ],
      "outputs": [
        {
          "output_type": "stream",
          "name": "stdout",
          "text": [
            "<class 'pandas.core.frame.DataFrame'>\n",
            "RangeIndex: 2822 entries, 0 to 2821\n",
            "Data columns (total 63 columns):\n",
            " #   Column             Non-Null Count  Dtype  \n",
            "---  ------             --------------  -----  \n",
            " 0   ward               2822 non-null   object \n",
            " 1   total_households   2822 non-null   float64\n",
            " 2   total_individuals  2822 non-null   float64\n",
            " 3   target             2822 non-null   float64\n",
            " 4   dw_00              2822 non-null   float64\n",
            " 5   dw_01              2822 non-null   float64\n",
            " 6   dw_02              2822 non-null   float64\n",
            " 7   dw_03              2822 non-null   float64\n",
            " 8   dw_04              2822 non-null   float64\n",
            " 9   dw_05              2822 non-null   float64\n",
            " 10  dw_06              2822 non-null   float64\n",
            " 11  dw_07              2822 non-null   float64\n",
            " 12  dw_08              2822 non-null   float64\n",
            " 13  dw_09              2822 non-null   float64\n",
            " 14  dw_10              2822 non-null   float64\n",
            " 15  dw_11              2822 non-null   float64\n",
            " 16  dw_12              2822 non-null   int64  \n",
            " 17  dw_13              2822 non-null   int64  \n",
            " 18  psa_00             2822 non-null   float64\n",
            " 19  psa_01             2822 non-null   float64\n",
            " 20  psa_02             2822 non-null   float64\n",
            " 21  psa_03             2822 non-null   float64\n",
            " 22  psa_04             2822 non-null   float64\n",
            " 23  stv_00             2822 non-null   float64\n",
            " 24  stv_01             2822 non-null   float64\n",
            " 25  car_00             2822 non-null   float64\n",
            " 26  car_01             2822 non-null   float64\n",
            " 27  lln_00             2822 non-null   float64\n",
            " 28  lln_01             2822 non-null   float64\n",
            " 29  lan_00             2822 non-null   float64\n",
            " 30  lan_01             2822 non-null   float64\n",
            " 31  lan_02             2822 non-null   float64\n",
            " 32  lan_03             2822 non-null   float64\n",
            " 33  lan_04             2822 non-null   float64\n",
            " 34  lan_05             2822 non-null   float64\n",
            " 35  lan_06             2822 non-null   float64\n",
            " 36  lan_07             2822 non-null   float64\n",
            " 37  lan_08             2822 non-null   float64\n",
            " 38  lan_09             2822 non-null   float64\n",
            " 39  lan_10             2822 non-null   float64\n",
            " 40  lan_11             2822 non-null   float64\n",
            " 41  lan_12             2822 non-null   float64\n",
            " 42  lan_13             2822 non-null   int64  \n",
            " 43  lan_14             2822 non-null   float64\n",
            " 44  pg_00              2822 non-null   float64\n",
            " 45  pg_01              2822 non-null   float64\n",
            " 46  pg_02              2822 non-null   float64\n",
            " 47  pg_03              2822 non-null   float64\n",
            " 48  pg_04              2822 non-null   float64\n",
            " 49  lgt_00             2822 non-null   float64\n",
            " 50  pw_00              2822 non-null   float64\n",
            " 51  pw_01              2822 non-null   float64\n",
            " 52  pw_02              2822 non-null   float64\n",
            " 53  pw_03              2822 non-null   float64\n",
            " 54  pw_04              2822 non-null   float64\n",
            " 55  pw_05              2822 non-null   float64\n",
            " 56  pw_06              2822 non-null   float64\n",
            " 57  pw_07              2822 non-null   int64  \n",
            " 58  pw_08              2822 non-null   int64  \n",
            " 59  ADM4_PCODE         2822 non-null   object \n",
            " 60  lat                2822 non-null   float64\n",
            " 61  lon                2822 non-null   float64\n",
            " 62  NL                 2822 non-null   float64\n",
            "dtypes: float64(56), int64(5), object(2)\n",
            "memory usage: 1.4+ MB\n"
          ]
        }
      ],
      "metadata": {}
    },
    {
      "cell_type": "code",
      "execution_count": 15,
      "source": [
        "df.describe()"
      ],
      "outputs": [
        {
          "output_type": "execute_result",
          "data": {
            "text/html": [
              "<div>\n",
              "<style scoped>\n",
              "    .dataframe tbody tr th:only-of-type {\n",
              "        vertical-align: middle;\n",
              "    }\n",
              "\n",
              "    .dataframe tbody tr th {\n",
              "        vertical-align: top;\n",
              "    }\n",
              "\n",
              "    .dataframe thead th {\n",
              "        text-align: right;\n",
              "    }\n",
              "</style>\n",
              "<table border=\"1\" class=\"dataframe\">\n",
              "  <thead>\n",
              "    <tr style=\"text-align: right;\">\n",
              "      <th></th>\n",
              "      <th>total_households</th>\n",
              "      <th>total_individuals</th>\n",
              "      <th>target</th>\n",
              "      <th>dw_00</th>\n",
              "      <th>dw_01</th>\n",
              "      <th>dw_02</th>\n",
              "      <th>dw_03</th>\n",
              "      <th>dw_04</th>\n",
              "      <th>dw_05</th>\n",
              "      <th>dw_06</th>\n",
              "      <th>...</th>\n",
              "      <th>pw_02</th>\n",
              "      <th>pw_03</th>\n",
              "      <th>pw_04</th>\n",
              "      <th>pw_05</th>\n",
              "      <th>pw_06</th>\n",
              "      <th>pw_07</th>\n",
              "      <th>pw_08</th>\n",
              "      <th>lat</th>\n",
              "      <th>lon</th>\n",
              "      <th>NL</th>\n",
              "    </tr>\n",
              "  </thead>\n",
              "  <tbody>\n",
              "    <tr>\n",
              "      <th>count</th>\n",
              "      <td>2822.000000</td>\n",
              "      <td>2822.000000</td>\n",
              "      <td>2822.000000</td>\n",
              "      <td>2822.000000</td>\n",
              "      <td>2822.000000</td>\n",
              "      <td>2822.000000</td>\n",
              "      <td>2822.000000</td>\n",
              "      <td>2822.000000</td>\n",
              "      <td>2822.000000</td>\n",
              "      <td>2822.000000</td>\n",
              "      <td>...</td>\n",
              "      <td>2822.000000</td>\n",
              "      <td>2822.000000</td>\n",
              "      <td>2822.000000</td>\n",
              "      <td>2822.000000</td>\n",
              "      <td>2822.000000</td>\n",
              "      <td>2822.0</td>\n",
              "      <td>2822.0</td>\n",
              "      <td>2822.000000</td>\n",
              "      <td>2822.000000</td>\n",
              "      <td>2822.000000</td>\n",
              "    </tr>\n",
              "    <tr>\n",
              "      <th>mean</th>\n",
              "      <td>3665.281214</td>\n",
              "      <td>12869.130053</td>\n",
              "      <td>24.507554</td>\n",
              "      <td>0.712196</td>\n",
              "      <td>0.092616</td>\n",
              "      <td>0.032043</td>\n",
              "      <td>0.006057</td>\n",
              "      <td>0.008665</td>\n",
              "      <td>0.006289</td>\n",
              "      <td>0.022375</td>\n",
              "      <td>...</td>\n",
              "      <td>0.127555</td>\n",
              "      <td>0.041589</td>\n",
              "      <td>0.019655</td>\n",
              "      <td>0.011008</td>\n",
              "      <td>0.110818</td>\n",
              "      <td>0.0</td>\n",
              "      <td>0.0</td>\n",
              "      <td>-26.880740</td>\n",
              "      <td>28.666515</td>\n",
              "      <td>17.437560</td>\n",
              "    </tr>\n",
              "    <tr>\n",
              "      <th>std</th>\n",
              "      <td>3266.364522</td>\n",
              "      <td>9696.690518</td>\n",
              "      <td>10.294387</td>\n",
              "      <td>0.214035</td>\n",
              "      <td>0.182852</td>\n",
              "      <td>0.080253</td>\n",
              "      <td>0.019374</td>\n",
              "      <td>0.030697</td>\n",
              "      <td>0.024606</td>\n",
              "      <td>0.037127</td>\n",
              "      <td>...</td>\n",
              "      <td>0.156400</td>\n",
              "      <td>0.057331</td>\n",
              "      <td>0.032926</td>\n",
              "      <td>0.023672</td>\n",
              "      <td>0.185401</td>\n",
              "      <td>0.0</td>\n",
              "      <td>0.0</td>\n",
              "      <td>2.021279</td>\n",
              "      <td>2.373809</td>\n",
              "      <td>18.958621</td>\n",
              "    </tr>\n",
              "    <tr>\n",
              "      <th>min</th>\n",
              "      <td>1.000000</td>\n",
              "      <td>402.000000</td>\n",
              "      <td>0.000000</td>\n",
              "      <td>0.000000</td>\n",
              "      <td>0.000000</td>\n",
              "      <td>0.000000</td>\n",
              "      <td>0.000000</td>\n",
              "      <td>0.000000</td>\n",
              "      <td>0.000000</td>\n",
              "      <td>0.000000</td>\n",
              "      <td>...</td>\n",
              "      <td>0.000000</td>\n",
              "      <td>0.000000</td>\n",
              "      <td>0.000000</td>\n",
              "      <td>0.000000</td>\n",
              "      <td>0.000000</td>\n",
              "      <td>0.0</td>\n",
              "      <td>0.0</td>\n",
              "      <td>-32.490089</td>\n",
              "      <td>16.760022</td>\n",
              "      <td>0.000000</td>\n",
              "    </tr>\n",
              "    <tr>\n",
              "      <th>25%</th>\n",
              "      <td>1778.858235</td>\n",
              "      <td>7071.205695</td>\n",
              "      <td>16.751556</td>\n",
              "      <td>0.594212</td>\n",
              "      <td>0.002895</td>\n",
              "      <td>0.002407</td>\n",
              "      <td>0.000000</td>\n",
              "      <td>0.000000</td>\n",
              "      <td>0.000000</td>\n",
              "      <td>0.002716</td>\n",
              "      <td>...</td>\n",
              "      <td>0.008673</td>\n",
              "      <td>0.002099</td>\n",
              "      <td>0.000715</td>\n",
              "      <td>0.000159</td>\n",
              "      <td>0.005217</td>\n",
              "      <td>0.0</td>\n",
              "      <td>0.0</td>\n",
              "      <td>-28.569019</td>\n",
              "      <td>27.707932</td>\n",
              "      <td>3.033397</td>\n",
              "    </tr>\n",
              "    <tr>\n",
              "      <th>50%</th>\n",
              "      <td>2398.249935</td>\n",
              "      <td>9366.989680</td>\n",
              "      <td>24.156670</td>\n",
              "      <td>0.766841</td>\n",
              "      <td>0.010425</td>\n",
              "      <td>0.005762</td>\n",
              "      <td>0.000807</td>\n",
              "      <td>0.000607</td>\n",
              "      <td>0.000865</td>\n",
              "      <td>0.008639</td>\n",
              "      <td>...</td>\n",
              "      <td>0.069065</td>\n",
              "      <td>0.016496</td>\n",
              "      <td>0.005164</td>\n",
              "      <td>0.001459</td>\n",
              "      <td>0.025165</td>\n",
              "      <td>0.0</td>\n",
              "      <td>0.0</td>\n",
              "      <td>-26.549866</td>\n",
              "      <td>28.959679</td>\n",
              "      <td>9.205572</td>\n",
              "    </tr>\n",
              "    <tr>\n",
              "      <th>75%</th>\n",
              "      <td>3987.080563</td>\n",
              "      <td>14241.233015</td>\n",
              "      <td>32.226553</td>\n",
              "      <td>0.881708</td>\n",
              "      <td>0.068209</td>\n",
              "      <td>0.027913</td>\n",
              "      <td>0.002538</td>\n",
              "      <td>0.002225</td>\n",
              "      <td>0.003027</td>\n",
              "      <td>0.025218</td>\n",
              "      <td>...</td>\n",
              "      <td>0.183384</td>\n",
              "      <td>0.058626</td>\n",
              "      <td>0.025055</td>\n",
              "      <td>0.009432</td>\n",
              "      <td>0.116638</td>\n",
              "      <td>0.0</td>\n",
              "      <td>0.0</td>\n",
              "      <td>-25.572130</td>\n",
              "      <td>30.441505</td>\n",
              "      <td>26.890531</td>\n",
              "    </tr>\n",
              "    <tr>\n",
              "      <th>max</th>\n",
              "      <td>39684.942130</td>\n",
              "      <td>91716.746370</td>\n",
              "      <td>55.528423</td>\n",
              "      <td>0.994962</td>\n",
              "      <td>0.931490</td>\n",
              "      <td>0.951806</td>\n",
              "      <td>0.264239</td>\n",
              "      <td>0.392085</td>\n",
              "      <td>0.435912</td>\n",
              "      <td>0.412936</td>\n",
              "      <td>...</td>\n",
              "      <td>1.000000</td>\n",
              "      <td>0.327393</td>\n",
              "      <td>0.306787</td>\n",
              "      <td>0.228261</td>\n",
              "      <td>0.961523</td>\n",
              "      <td>0.0</td>\n",
              "      <td>0.0</td>\n",
              "      <td>-22.331267</td>\n",
              "      <td>32.858249</td>\n",
              "      <td>63.000000</td>\n",
              "    </tr>\n",
              "  </tbody>\n",
              "</table>\n",
              "<p>8 rows × 61 columns</p>\n",
              "</div>"
            ],
            "text/plain": [
              "       total_households  total_individuals       target        dw_00  \\\n",
              "count       2822.000000        2822.000000  2822.000000  2822.000000   \n",
              "mean        3665.281214       12869.130053    24.507554     0.712196   \n",
              "std         3266.364522        9696.690518    10.294387     0.214035   \n",
              "min            1.000000         402.000000     0.000000     0.000000   \n",
              "25%         1778.858235        7071.205695    16.751556     0.594212   \n",
              "50%         2398.249935        9366.989680    24.156670     0.766841   \n",
              "75%         3987.080563       14241.233015    32.226553     0.881708   \n",
              "max        39684.942130       91716.746370    55.528423     0.994962   \n",
              "\n",
              "             dw_01        dw_02        dw_03        dw_04        dw_05  \\\n",
              "count  2822.000000  2822.000000  2822.000000  2822.000000  2822.000000   \n",
              "mean      0.092616     0.032043     0.006057     0.008665     0.006289   \n",
              "std       0.182852     0.080253     0.019374     0.030697     0.024606   \n",
              "min       0.000000     0.000000     0.000000     0.000000     0.000000   \n",
              "25%       0.002895     0.002407     0.000000     0.000000     0.000000   \n",
              "50%       0.010425     0.005762     0.000807     0.000607     0.000865   \n",
              "75%       0.068209     0.027913     0.002538     0.002225     0.003027   \n",
              "max       0.931490     0.951806     0.264239     0.392085     0.435912   \n",
              "\n",
              "             dw_06  ...        pw_02        pw_03        pw_04        pw_05  \\\n",
              "count  2822.000000  ...  2822.000000  2822.000000  2822.000000  2822.000000   \n",
              "mean      0.022375  ...     0.127555     0.041589     0.019655     0.011008   \n",
              "std       0.037127  ...     0.156400     0.057331     0.032926     0.023672   \n",
              "min       0.000000  ...     0.000000     0.000000     0.000000     0.000000   \n",
              "25%       0.002716  ...     0.008673     0.002099     0.000715     0.000159   \n",
              "50%       0.008639  ...     0.069065     0.016496     0.005164     0.001459   \n",
              "75%       0.025218  ...     0.183384     0.058626     0.025055     0.009432   \n",
              "max       0.412936  ...     1.000000     0.327393     0.306787     0.228261   \n",
              "\n",
              "             pw_06   pw_07   pw_08          lat          lon           NL  \n",
              "count  2822.000000  2822.0  2822.0  2822.000000  2822.000000  2822.000000  \n",
              "mean      0.110818     0.0     0.0   -26.880740    28.666515    17.437560  \n",
              "std       0.185401     0.0     0.0     2.021279     2.373809    18.958621  \n",
              "min       0.000000     0.0     0.0   -32.490089    16.760022     0.000000  \n",
              "25%       0.005217     0.0     0.0   -28.569019    27.707932     3.033397  \n",
              "50%       0.025165     0.0     0.0   -26.549866    28.959679     9.205572  \n",
              "75%       0.116638     0.0     0.0   -25.572130    30.441505    26.890531  \n",
              "max       0.961523     0.0     0.0   -22.331267    32.858249    63.000000  \n",
              "\n",
              "[8 rows x 61 columns]"
            ]
          },
          "metadata": {},
          "execution_count": 15
        }
      ],
      "metadata": {}
    },
    {
      "cell_type": "markdown",
      "source": [
        "['dw_13', 'lan_13', 'dw_12', 'pw_08', 'pw_07'] have only 0 in them --> we could drop these features"
      ],
      "metadata": {}
    },
    {
      "cell_type": "code",
      "execution_count": 16,
      "source": [
        "# drop features with only 0 in them\n",
        "df = df.drop(['dw_13', 'lan_13', 'dw_12', 'pw_08', 'pw_07', 'lat', 'lon', 'ward', 'ADM4_PCODE'], axis=1)"
      ],
      "outputs": [],
      "metadata": {}
    },
    {
      "cell_type": "code",
      "execution_count": 17,
      "source": [
        "df.info()"
      ],
      "outputs": [
        {
          "output_type": "stream",
          "name": "stdout",
          "text": [
            "<class 'pandas.core.frame.DataFrame'>\n",
            "RangeIndex: 2822 entries, 0 to 2821\n",
            "Data columns (total 54 columns):\n",
            " #   Column             Non-Null Count  Dtype  \n",
            "---  ------             --------------  -----  \n",
            " 0   total_households   2822 non-null   float64\n",
            " 1   total_individuals  2822 non-null   float64\n",
            " 2   target             2822 non-null   float64\n",
            " 3   dw_00              2822 non-null   float64\n",
            " 4   dw_01              2822 non-null   float64\n",
            " 5   dw_02              2822 non-null   float64\n",
            " 6   dw_03              2822 non-null   float64\n",
            " 7   dw_04              2822 non-null   float64\n",
            " 8   dw_05              2822 non-null   float64\n",
            " 9   dw_06              2822 non-null   float64\n",
            " 10  dw_07              2822 non-null   float64\n",
            " 11  dw_08              2822 non-null   float64\n",
            " 12  dw_09              2822 non-null   float64\n",
            " 13  dw_10              2822 non-null   float64\n",
            " 14  dw_11              2822 non-null   float64\n",
            " 15  psa_00             2822 non-null   float64\n",
            " 16  psa_01             2822 non-null   float64\n",
            " 17  psa_02             2822 non-null   float64\n",
            " 18  psa_03             2822 non-null   float64\n",
            " 19  psa_04             2822 non-null   float64\n",
            " 20  stv_00             2822 non-null   float64\n",
            " 21  stv_01             2822 non-null   float64\n",
            " 22  car_00             2822 non-null   float64\n",
            " 23  car_01             2822 non-null   float64\n",
            " 24  lln_00             2822 non-null   float64\n",
            " 25  lln_01             2822 non-null   float64\n",
            " 26  lan_00             2822 non-null   float64\n",
            " 27  lan_01             2822 non-null   float64\n",
            " 28  lan_02             2822 non-null   float64\n",
            " 29  lan_03             2822 non-null   float64\n",
            " 30  lan_04             2822 non-null   float64\n",
            " 31  lan_05             2822 non-null   float64\n",
            " 32  lan_06             2822 non-null   float64\n",
            " 33  lan_07             2822 non-null   float64\n",
            " 34  lan_08             2822 non-null   float64\n",
            " 35  lan_09             2822 non-null   float64\n",
            " 36  lan_10             2822 non-null   float64\n",
            " 37  lan_11             2822 non-null   float64\n",
            " 38  lan_12             2822 non-null   float64\n",
            " 39  lan_14             2822 non-null   float64\n",
            " 40  pg_00              2822 non-null   float64\n",
            " 41  pg_01              2822 non-null   float64\n",
            " 42  pg_02              2822 non-null   float64\n",
            " 43  pg_03              2822 non-null   float64\n",
            " 44  pg_04              2822 non-null   float64\n",
            " 45  lgt_00             2822 non-null   float64\n",
            " 46  pw_00              2822 non-null   float64\n",
            " 47  pw_01              2822 non-null   float64\n",
            " 48  pw_02              2822 non-null   float64\n",
            " 49  pw_03              2822 non-null   float64\n",
            " 50  pw_04              2822 non-null   float64\n",
            " 51  pw_05              2822 non-null   float64\n",
            " 52  pw_06              2822 non-null   float64\n",
            " 53  NL                 2822 non-null   float64\n",
            "dtypes: float64(54)\n",
            "memory usage: 1.2 MB\n"
          ]
        }
      ],
      "metadata": {}
    },
    {
      "cell_type": "code",
      "execution_count": 18,
      "source": [
        "df.shape"
      ],
      "outputs": [
        {
          "output_type": "execute_result",
          "data": {
            "text/plain": [
              "(2822, 54)"
            ]
          },
          "metadata": {},
          "execution_count": 18
        }
      ],
      "metadata": {}
    },
    {
      "cell_type": "code",
      "execution_count": null,
      "source": [],
      "outputs": [],
      "metadata": {}
    },
    {
      "cell_type": "code",
      "execution_count": 19,
      "source": [
        "# transform the data\n",
        "def convert_zeros(x):\n",
        "    '''\n",
        "    function to convert zeros to a postive number \n",
        "    so that it can be transformed with the boxcox'''\n",
        "    if x == 0.0:\n",
        "        return 0.0000001\n",
        "    else :\n",
        "        return x\n"
      ],
      "outputs": [],
      "metadata": {}
    },
    {
      "cell_type": "code",
      "execution_count": 20,
      "source": [
        "reduced_feature_list = ['pw_00', 'psa_00', 'car_00', 'pg_03', 'NL', 'lan_00', 'pg_00', 'target']\n",
        "df_red = df[reduced_feature_list]"
      ],
      "outputs": [],
      "metadata": {}
    },
    {
      "cell_type": "code",
      "execution_count": 21,
      "source": [
        "\n",
        "\n",
        "for col in reduced_feature_list:\n",
        "    if col != 'target' and  col != 'psa_00' and col != 'car_00' and col != 'pg_00':\n",
        "        df_red[col] = df_red[col].apply(convert_zeros)\n",
        "        df_red[col] = boxcox(df_red[col])[0].reshape(-1,1);"
      ],
      "outputs": [
        {
          "output_type": "stream",
          "name": "stderr",
          "text": [
            "/var/folders/4q/jchndf6x7rv99dbr5nzt756h0000gn/T/ipykernel_31226/987145503.py:3: SettingWithCopyWarning: \n",
            "A value is trying to be set on a copy of a slice from a DataFrame.\n",
            "Try using .loc[row_indexer,col_indexer] = value instead\n",
            "\n",
            "See the caveats in the documentation: https://pandas.pydata.org/pandas-docs/stable/user_guide/indexing.html#returning-a-view-versus-a-copy\n",
            "  df_red[col] = df_red[col].apply(convert_zeros)\n",
            "/var/folders/4q/jchndf6x7rv99dbr5nzt756h0000gn/T/ipykernel_31226/987145503.py:4: SettingWithCopyWarning: \n",
            "A value is trying to be set on a copy of a slice from a DataFrame.\n",
            "Try using .loc[row_indexer,col_indexer] = value instead\n",
            "\n",
            "See the caveats in the documentation: https://pandas.pydata.org/pandas-docs/stable/user_guide/indexing.html#returning-a-view-versus-a-copy\n",
            "  df_red[col] = boxcox(df_red[col])[0].reshape(-1,1);\n"
          ]
        }
      ],
      "metadata": {}
    },
    {
      "cell_type": "code",
      "execution_count": 22,
      "source": [
        "df_red.head()"
      ],
      "outputs": [
        {
          "output_type": "execute_result",
          "data": {
            "text/html": [
              "<div>\n",
              "<style scoped>\n",
              "    .dataframe tbody tr th:only-of-type {\n",
              "        vertical-align: middle;\n",
              "    }\n",
              "\n",
              "    .dataframe tbody tr th {\n",
              "        vertical-align: top;\n",
              "    }\n",
              "\n",
              "    .dataframe thead th {\n",
              "        text-align: right;\n",
              "    }\n",
              "</style>\n",
              "<table border=\"1\" class=\"dataframe\">\n",
              "  <thead>\n",
              "    <tr style=\"text-align: right;\">\n",
              "      <th></th>\n",
              "      <th>pw_00</th>\n",
              "      <th>psa_00</th>\n",
              "      <th>car_00</th>\n",
              "      <th>pg_03</th>\n",
              "      <th>NL</th>\n",
              "      <th>lan_00</th>\n",
              "      <th>pg_00</th>\n",
              "      <th>target</th>\n",
              "    </tr>\n",
              "  </thead>\n",
              "  <tbody>\n",
              "    <tr>\n",
              "      <th>0</th>\n",
              "      <td>-0.284113</td>\n",
              "      <td>0.260191</td>\n",
              "      <td>0.273727</td>\n",
              "      <td>-2.468668</td>\n",
              "      <td>-1.053425</td>\n",
              "      <td>-0.183226</td>\n",
              "      <td>0.357455</td>\n",
              "      <td>16.773757</td>\n",
              "    </tr>\n",
              "    <tr>\n",
              "      <th>1</th>\n",
              "      <td>-0.982978</td>\n",
              "      <td>0.290228</td>\n",
              "      <td>0.144638</td>\n",
              "      <td>-3.780784</td>\n",
              "      <td>1.361363</td>\n",
              "      <td>-0.128422</td>\n",
              "      <td>0.698428</td>\n",
              "      <td>21.496661</td>\n",
              "    </tr>\n",
              "    <tr>\n",
              "      <th>2</th>\n",
              "      <td>-0.951828</td>\n",
              "      <td>0.186435</td>\n",
              "      <td>0.272220</td>\n",
              "      <td>-1.716657</td>\n",
              "      <td>-3.789711</td>\n",
              "      <td>-0.573863</td>\n",
              "      <td>0.672452</td>\n",
              "      <td>10.931425</td>\n",
              "    </tr>\n",
              "    <tr>\n",
              "      <th>3</th>\n",
              "      <td>-0.366754</td>\n",
              "      <td>0.281229</td>\n",
              "      <td>0.127875</td>\n",
              "      <td>-5.967212</td>\n",
              "      <td>0.782549</td>\n",
              "      <td>-0.297017</td>\n",
              "      <td>0.728014</td>\n",
              "      <td>23.119257</td>\n",
              "    </tr>\n",
              "    <tr>\n",
              "      <th>4</th>\n",
              "      <td>-0.249689</td>\n",
              "      <td>0.196687</td>\n",
              "      <td>0.404507</td>\n",
              "      <td>-2.126300</td>\n",
              "      <td>-3.789711</td>\n",
              "      <td>-0.870200</td>\n",
              "      <td>0.753491</td>\n",
              "      <td>13.652252</td>\n",
              "    </tr>\n",
              "  </tbody>\n",
              "</table>\n",
              "</div>"
            ],
            "text/plain": [
              "      pw_00    psa_00    car_00     pg_03        NL    lan_00     pg_00  \\\n",
              "0 -0.284113  0.260191  0.273727 -2.468668 -1.053425 -0.183226  0.357455   \n",
              "1 -0.982978  0.290228  0.144638 -3.780784  1.361363 -0.128422  0.698428   \n",
              "2 -0.951828  0.186435  0.272220 -1.716657 -3.789711 -0.573863  0.672452   \n",
              "3 -0.366754  0.281229  0.127875 -5.967212  0.782549 -0.297017  0.728014   \n",
              "4 -0.249689  0.196687  0.404507 -2.126300 -3.789711 -0.870200  0.753491   \n",
              "\n",
              "      target  \n",
              "0  16.773757  \n",
              "1  21.496661  \n",
              "2  10.931425  \n",
              "3  23.119257  \n",
              "4  13.652252  "
            ]
          },
          "metadata": {},
          "execution_count": 22
        }
      ],
      "metadata": {}
    },
    {
      "cell_type": "code",
      "execution_count": 23,
      "source": [
        "# Train test split with same random seed\n",
        "# Defining X and y\n",
        "features = df_red.columns.tolist()\n",
        "features.remove('target')\n",
        "X = df[features]\n",
        "y = df.target\n",
        "\n",
        "# Splitting the dataset\n",
        "X_train, X_test, y_train, y_test = train_test_split(X, y, test_size=0.25, random_state=150, shuffle=True)\n",
        "\n",
        "# Check the shape of the data sets\n",
        "print(\"X_train:\", X_train.shape)\n",
        "print(\"y_train:\", y_train.shape)\n",
        "print(\"X_test:\", X_test.shape)\n",
        "print(\"y_test:\", y_test.shape)"
      ],
      "outputs": [
        {
          "output_type": "stream",
          "name": "stdout",
          "text": [
            "X_train: (2116, 7)\n",
            "y_train: (2116,)\n",
            "X_test: (706, 7)\n",
            "y_test: (706,)\n"
          ]
        }
      ],
      "metadata": {}
    },
    {
      "cell_type": "markdown",
      "source": [
        "## Model Ridge and Lasso"
      ],
      "metadata": {}
    },
    {
      "cell_type": "markdown",
      "source": [
        "Ridge Regularization "
      ],
      "metadata": {}
    },
    {
      "cell_type": "code",
      "execution_count": 96,
      "source": [
        "ridge = Ridge(max_iter=10000)\n",
        "ridge.fit(X_train, y_train)\n",
        "y_pred_ridge  = ridge.predict(X_test)\n",
        "\n",
        "mse_ridge = mean_squared_error(y_test, y_pred_ridge)\n",
        "rmse_ridge = np.sqrt(mse_ridge)\n",
        "print('rmse using ridge :', rmse_ridge)"
      ],
      "outputs": [
        {
          "output_type": "stream",
          "name": "stdout",
          "text": [
            "rmse using ridge : 4.414364106329006\n"
          ]
        }
      ],
      "metadata": {}
    },
    {
      "cell_type": "code",
      "execution_count": 42,
      "source": [
        "ridge.coef_"
      ],
      "outputs": [
        {
          "output_type": "execute_result",
          "data": {
            "text/plain": [
              "array([-6.79966475e+00,  6.44222705e+01, -2.29101213e+01,  6.83704725e+00,\n",
              "       -4.91712518e-02, -9.68590111e+00, -7.34113102e+00])"
            ]
          },
          "metadata": {},
          "execution_count": 42
        }
      ],
      "metadata": {}
    },
    {
      "cell_type": "markdown",
      "source": [
        "Randomized Grid Search with Ridge"
      ],
      "metadata": {}
    },
    {
      "cell_type": "code",
      "execution_count": 98,
      "source": [
        "param_rand_grid = {'alpha' : [int(x) for x in np.linspace(start = .0001, stop = 10, num = 1000)]}\n",
        "\n",
        "g_search = RandomizedSearchCV(estimator = ridge, param_distributions = param_rand_grid, cv = 5, n_jobs = 1, verbose = 5)\n",
        "\n",
        "g_search.fit(X_train, y_train)"
      ],
      "outputs": [
        {
          "output_type": "stream",
          "name": "stdout",
          "text": [
            "Fitting 5 folds for each of 10 candidates, totalling 50 fits\n",
            "[CV 1/5] END ...........................alpha=4;, score=0.796 total time=   0.0s\n",
            "[CV 2/5] END ...........................alpha=4;, score=0.781 total time=   0.0s\n",
            "[CV 3/5] END ...........................alpha=4;, score=0.780 total time=   0.0s\n",
            "[CV 4/5] END ...........................alpha=4;, score=0.796 total time=   0.0s\n",
            "[CV 5/5] END ...........................alpha=4;, score=0.787 total time=   0.0s\n",
            "[CV 1/5] END ...........................alpha=4;, score=0.796 total time=   0.0s\n",
            "[CV 2/5] END ...........................alpha=4;, score=0.781 total time=   0.0s\n",
            "[CV 3/5] END ...........................alpha=4;, score=0.780 total time=   0.0s\n",
            "[CV 4/5] END ...........................alpha=4;, score=0.796 total time=   0.0s\n",
            "[CV 5/5] END ...........................alpha=4;, score=0.787 total time=   0.0s\n",
            "[CV 1/5] END ...........................alpha=6;, score=0.778 total time=   0.0s\n",
            "[CV 2/5] END ...........................alpha=6;, score=0.762 total time=   0.0s\n",
            "[CV 3/5] END ...........................alpha=6;, score=0.763 total time=   0.0s\n",
            "[CV 4/5] END ...........................alpha=6;, score=0.780 total time=   0.0s\n",
            "[CV 5/5] END ...........................alpha=6;, score=0.772 total time=   0.0s\n",
            "[CV 1/5] END ...........................alpha=4;, score=0.796 total time=   0.0s\n",
            "[CV 2/5] END ...........................alpha=4;, score=0.781 total time=   0.0s\n",
            "[CV 3/5] END ...........................alpha=4;, score=0.780 total time=   0.0s\n",
            "[CV 4/5] END ...........................alpha=4;, score=0.796 total time=   0.0s\n",
            "[CV 5/5] END ...........................alpha=4;, score=0.787 total time=   0.0s\n",
            "[CV 1/5] END ...........................alpha=9;, score=0.758 total time=   0.0s\n",
            "[CV 2/5] END ...........................alpha=9;, score=0.739 total time=   0.0s\n",
            "[CV 3/5] END ...........................alpha=9;, score=0.743 total time=   0.0s\n",
            "[CV 4/5] END ...........................alpha=9;, score=0.761 total time=   0.0s\n",
            "[CV 5/5] END ...........................alpha=9;, score=0.754 total time=   0.0s\n",
            "[CV 1/5] END ...........................alpha=4;, score=0.796 total time=   0.0s\n",
            "[CV 2/5] END ...........................alpha=4;, score=0.781 total time=   0.0s\n",
            "[CV 3/5] END ...........................alpha=4;, score=0.780 total time=   0.0s\n",
            "[CV 4/5] END ...........................alpha=4;, score=0.796 total time=   0.0s\n",
            "[CV 5/5] END ...........................alpha=4;, score=0.787 total time=   0.0s\n",
            "[CV 1/5] END ...........................alpha=9;, score=0.758 total time=   0.0s\n",
            "[CV 2/5] END ...........................alpha=9;, score=0.739 total time=   0.0s\n",
            "[CV 3/5] END ...........................alpha=9;, score=0.743 total time=   0.0s\n",
            "[CV 4/5] END ...........................alpha=9;, score=0.761 total time=   0.0s\n",
            "[CV 5/5] END ...........................alpha=9;, score=0.754 total time=   0.0s\n",
            "[CV 1/5] END ...........................alpha=5;, score=0.786 total time=   0.0s\n",
            "[CV 2/5] END ...........................alpha=5;, score=0.771 total time=   0.0s\n",
            "[CV 3/5] END ...........................alpha=5;, score=0.771 total time=   0.0s\n",
            "[CV 4/5] END ...........................alpha=5;, score=0.788 total time=   0.0s\n",
            "[CV 5/5] END ...........................alpha=5;, score=0.779 total time=   0.0s\n",
            "[CV 1/5] END ...........................alpha=0;, score=0.838 total time=   0.0s\n",
            "[CV 2/5] END ...........................alpha=0;, score=0.822 total time=   0.0s\n",
            "[CV 3/5] END ...........................alpha=0;, score=0.814 total time=   0.0s\n",
            "[CV 4/5] END ...........................alpha=0;, score=0.832 total time=   0.0s\n",
            "[CV 5/5] END ...........................alpha=0;, score=0.800 total time=   0.0s\n",
            "[CV 1/5] END ...........................alpha=7;, score=0.771 total time=   0.0s\n",
            "[CV 2/5] END ...........................alpha=7;, score=0.753 total time=   0.0s\n",
            "[CV 3/5] END ...........................alpha=7;, score=0.755 total time=   0.0s\n",
            "[CV 4/5] END ...........................alpha=7;, score=0.773 total time=   0.0s\n",
            "[CV 5/5] END ...........................alpha=7;, score=0.765 total time=   0.0s\n"
          ]
        },
        {
          "output_type": "execute_result",
          "data": {
            "text/plain": [
              "RandomizedSearchCV(cv=5, estimator=Ridge(max_iter=10000), n_jobs=1,\n",
              "                   param_distributions={'alpha': [0, 0, 0, 0, 0, 0, 0, 0, 0, 0,\n",
              "                                                  0, 0, 0, 0, 0, 0, 0, 0, 0, 0,\n",
              "                                                  0, 0, 0, 0, 0, 0, 0, 0, 0, 0, ...]},\n",
              "                   verbose=5)"
            ]
          },
          "metadata": {},
          "execution_count": 98
        }
      ],
      "metadata": {}
    },
    {
      "cell_type": "code",
      "execution_count": 99,
      "source": [
        "g_search.best_params_"
      ],
      "outputs": [
        {
          "output_type": "execute_result",
          "data": {
            "text/plain": [
              "{'alpha': 0}"
            ]
          },
          "metadata": {},
          "execution_count": 99
        }
      ],
      "metadata": {}
    },
    {
      "cell_type": "markdown",
      "source": [
        "Grid Search "
      ],
      "metadata": {}
    },
    {
      "cell_type": "code",
      "execution_count": 104,
      "source": [
        "param_grid = {'alpha' : [0.01, 0.1,0,1, 10]}\n",
        "\n",
        "g_search = GridSearchCV(estimator = ridge, param_grid = param_grid, cv = 5, n_jobs = 1, verbose = 5)\n",
        "\n",
        "g_search.fit(X_train, y_train)"
      ],
      "outputs": [
        {
          "output_type": "stream",
          "name": "stdout",
          "text": [
            "Fitting 5 folds for each of 5 candidates, totalling 25 fits\n",
            "[CV 1/5] END ........................alpha=0.01;, score=0.838 total time=   0.0s\n",
            "[CV 2/5] END ........................alpha=0.01;, score=0.822 total time=   0.0s\n",
            "[CV 3/5] END ........................alpha=0.01;, score=0.814 total time=   0.0s\n",
            "[CV 4/5] END ........................alpha=0.01;, score=0.832 total time=   0.0s\n",
            "[CV 5/5] END ........................alpha=0.01;, score=0.800 total time=   0.0s\n",
            "[CV 1/5] END .........................alpha=0.1;, score=0.837 total time=   0.0s\n",
            "[CV 2/5] END .........................alpha=0.1;, score=0.822 total time=   0.0s\n",
            "[CV 3/5] END .........................alpha=0.1;, score=0.813 total time=   0.0s\n",
            "[CV 4/5] END .........................alpha=0.1;, score=0.831 total time=   0.0s\n",
            "[CV 5/5] END .........................alpha=0.1;, score=0.801 total time=   0.0s\n",
            "[CV 1/5] END ...........................alpha=0;, score=0.838 total time=   0.0s\n",
            "[CV 2/5] END ...........................alpha=0;, score=0.822 total time=   0.0s\n",
            "[CV 3/5] END ...........................alpha=0;, score=0.814 total time=   0.0s\n",
            "[CV 4/5] END ...........................alpha=0;, score=0.832 total time=   0.0s\n",
            "[CV 5/5] END ...........................alpha=0;, score=0.800 total time=   0.0s\n",
            "[CV 1/5] END ...........................alpha=1;, score=0.829 total time=   0.0s\n",
            "[CV 2/5] END ...........................alpha=1;, score=0.815 total time=   0.0s\n",
            "[CV 3/5] END ...........................alpha=1;, score=0.808 total time=   0.0s\n",
            "[CV 4/5] END ...........................alpha=1;, score=0.825 total time=   0.0s\n",
            "[CV 5/5] END ...........................alpha=1;, score=0.805 total time=   0.0s\n",
            "[CV 1/5] END ..........................alpha=10;, score=0.753 total time=   0.0s\n",
            "[CV 2/5] END ..........................alpha=10;, score=0.733 total time=   0.0s\n",
            "[CV 3/5] END ..........................alpha=10;, score=0.737 total time=   0.0s\n",
            "[CV 4/5] END ..........................alpha=10;, score=0.755 total time=   0.0s\n",
            "[CV 5/5] END ..........................alpha=10;, score=0.749 total time=   0.0s\n"
          ]
        },
        {
          "output_type": "execute_result",
          "data": {
            "text/plain": [
              "GridSearchCV(cv=5, estimator=Ridge(max_iter=10000), n_jobs=1,\n",
              "             param_grid={'alpha': [0.01, 0.1, 0, 1, 10]}, verbose=5)"
            ]
          },
          "metadata": {},
          "execution_count": 104
        }
      ],
      "metadata": {}
    },
    {
      "cell_type": "code",
      "execution_count": 106,
      "source": [
        "print(g_search.best_params_)\n",
        "print(g_search.best_score_)"
      ],
      "outputs": [
        {
          "output_type": "stream",
          "name": "stdout",
          "text": [
            "{'alpha': 0.01}\n",
            "0.821117095050587\n"
          ]
        }
      ],
      "metadata": {}
    },
    {
      "cell_type": "code",
      "execution_count": 115,
      "source": [
        "ridge = Ridge(max_iter=10000, alpha=0.0)\n",
        "ridge.fit(X_train, y_train)\n",
        "y_pred_ridge  = ridge.predict(X_test)\n",
        "\n",
        "mse_ridge = mean_squared_error(y_test, y_pred_ridge)\n",
        "rmse_ridge = np.sqrt(mse_ridge)\n",
        "print('rmse using ridge :', rmse_ridge)"
      ],
      "outputs": [
        {
          "output_type": "stream",
          "name": "stdout",
          "text": [
            "rmse using ridge : 4.395993583393601\n"
          ]
        }
      ],
      "metadata": {}
    },
    {
      "cell_type": "markdown",
      "source": [
        "Lasso Regularization"
      ],
      "metadata": {}
    },
    {
      "cell_type": "code",
      "execution_count": 32,
      "source": [
        "lasso = Lasso()\n",
        "lasso.fit(X_train, y_train)\n",
        "y_pred_lasso  = lasso.predict(X_test)"
      ],
      "outputs": [],
      "metadata": {}
    },
    {
      "cell_type": "code",
      "execution_count": 33,
      "source": [
        "mse_lasso = mean_squared_error(y_test, y_pred_lasso)\n",
        "rmse_lasso= np.sqrt(mse_lasso)\n",
        "print('rmse using lasso :', rmse_lasso)"
      ],
      "outputs": [
        {
          "output_type": "stream",
          "name": "stdout",
          "text": [
            "rmse using lasso : 7.5201689472058355\n"
          ]
        }
      ],
      "metadata": {}
    },
    {
      "cell_type": "code",
      "execution_count": 35,
      "source": [
        "lasso.coef_"
      ],
      "outputs": [
        {
          "output_type": "execute_result",
          "data": {
            "text/plain": [
              "array([-7.89722019,  0.        , -0.        , -0.        , -0.2077088 ,\n",
              "       -0.        ,  0.        ])"
            ]
          },
          "metadata": {},
          "execution_count": 35
        }
      ],
      "metadata": {}
    },
    {
      "cell_type": "markdown",
      "source": [
        "## Ridge to large number of features"
      ],
      "metadata": {}
    },
    {
      "cell_type": "code",
      "execution_count": 132,
      "source": [
        "# Train test split with same random seed\n",
        "# Defining X and y\n",
        "features_large = df.columns.tolist()\n",
        "features_large.remove('target')\n",
        "X2 = df[features_large]\n",
        "y2 = df.target\n",
        "\n",
        "# Splitting the dataset\n",
        "X2_train, X2_test, y2_train, y2_test = train_test_split(X2, y2, test_size=0.25, random_state=10, shuffle=True)\n",
        "\n",
        "# Check the shape of the data sets\n",
        "print(\"X_train:\", X2_train.shape)\n",
        "print(\"y_train:\", y2_train.shape)\n",
        "print(\"X_test:\", X2_test.shape)\n",
        "print(\"y_test:\", y2_test.shape)"
      ],
      "outputs": [
        {
          "output_type": "stream",
          "name": "stdout",
          "text": [
            "X_train: (2116, 53)\n",
            "y_train: (2116,)\n",
            "X_test: (706, 53)\n",
            "y_test: (706,)\n"
          ]
        }
      ],
      "metadata": {}
    },
    {
      "cell_type": "code",
      "execution_count": 133,
      "source": [
        "ridge2 = Ridge()\n",
        "ridge2.fit(X2_train, y2_train)\n",
        "y2_pred_ridge2  = ridge2.predict(X2_test)\n",
        "\n",
        "mse2_ridge = mean_squared_error(y2_test, y2_pred_ridge2)\n",
        "rmse2_ridge= np.sqrt(mse2_ridge)\n",
        "print('rmse large features using ridge :', rmse2_ridge)"
      ],
      "outputs": [
        {
          "output_type": "stream",
          "name": "stdout",
          "text": [
            "rmse large features using ridge : 4.056197818260214\n"
          ]
        }
      ],
      "metadata": {}
    },
    {
      "cell_type": "code",
      "execution_count": 148,
      "source": [
        "ridge2.coef_"
      ],
      "outputs": [
        {
          "output_type": "execute_result",
          "data": {
            "text/plain": [
              "array([ 7.30905811e-05, -6.13550883e-05, -4.64871362e+07, -4.64871317e+07,\n",
              "       -4.64871419e+07, -4.64871389e+07, -4.64871279e+07, -4.64871354e+07,\n",
              "       -4.64871475e+07, -4.64871443e+07, -4.64871392e+07, -4.64871568e+07,\n",
              "       -4.64871233e+07, -4.64871657e+07, -2.00089793e+07, -2.00090368e+07,\n",
              "       -2.00090303e+07, -2.00090277e+07, -2.00089961e+07, -2.42058236e+10,\n",
              "       -2.42058236e+10, -1.01772898e+11, -1.01772898e+11, -1.90773601e+10,\n",
              "       -1.90773601e+10,  1.09267657e+07,  1.09267701e+07,  1.09267709e+07,\n",
              "        1.09267690e+07,  1.09267688e+07,  1.09267737e+07,  1.09267726e+07,\n",
              "        1.09267693e+07,  1.09267775e+07,  1.09267697e+07,  1.09267717e+07,\n",
              "        1.09267745e+07,  1.09267710e+07,  1.09267500e+07, -2.61721515e+07,\n",
              "       -2.61721489e+07, -2.61721447e+07, -2.61721383e+07, -2.61721538e+07,\n",
              "        5.25908149e+00, -3.01651464e+07, -3.01651453e+07, -3.01651425e+07,\n",
              "       -3.01651432e+07, -3.01651395e+07, -3.01651336e+07, -3.01651428e+07,\n",
              "       -1.20648492e-02])"
            ]
          },
          "metadata": {},
          "execution_count": 148
        }
      ],
      "metadata": {}
    },
    {
      "cell_type": "markdown",
      "source": [
        "## Random Grid Search"
      ],
      "metadata": {}
    },
    {
      "cell_type": "code",
      "execution_count": 134,
      "source": [
        "param_rand_grid = {'alpha' : [int(x) for x in np.linspace(start = .0001, stop = 10, num = 1000)]}\n",
        "\n",
        "g_search = RandomizedSearchCV(estimator = ridge2, param_distributions = param_rand_grid, cv = 5, n_jobs = 1, verbose = 0)\n",
        "\n",
        "g_search.fit(X2_train, y2_train)"
      ],
      "outputs": [
        {
          "output_type": "execute_result",
          "data": {
            "text/plain": [
              "RandomizedSearchCV(cv=5, estimator=Ridge(), n_jobs=1,\n",
              "                   param_distributions={'alpha': [0, 0, 0, 0, 0, 0, 0, 0, 0, 0,\n",
              "                                                  0, 0, 0, 0, 0, 0, 0, 0, 0, 0,\n",
              "                                                  0, 0, 0, 0, 0, 0, 0, 0, 0, 0, ...]})"
            ]
          },
          "metadata": {},
          "execution_count": 134
        }
      ],
      "metadata": {}
    },
    {
      "cell_type": "code",
      "execution_count": 135,
      "source": [
        "print(g_search.best_params_)\n",
        "print(g_search.best_score_)"
      ],
      "outputs": [
        {
          "output_type": "stream",
          "name": "stdout",
          "text": [
            "{'alpha': 0}\n",
            "0.8608035446063461\n"
          ]
        }
      ],
      "metadata": {}
    },
    {
      "cell_type": "markdown",
      "source": [
        "## Grid Search"
      ],
      "metadata": {}
    },
    {
      "cell_type": "code",
      "execution_count": 136,
      "source": [
        "param_grid = {'alpha' : [0.001, 0.01, 0.1, 1, 10, 100]}\n",
        "\n",
        "g_search = RandomizedSearchCV(estimator = ridge2, param_distributions = param_grid, cv = 5, n_jobs = 1, verbose = 0)\n",
        "\n",
        "g_search.fit(X2_train, y2_train)"
      ],
      "outputs": [
        {
          "output_type": "stream",
          "name": "stderr",
          "text": [
            "/Users/ravi/neuefische/urban-eureka/.venv/lib/python3.9/site-packages/sklearn/model_selection/_search.py:292: UserWarning: The total space of parameters 6 is smaller than n_iter=10. Running 6 iterations. For exhaustive searches, use GridSearchCV.\n",
            "  warnings.warn(\n"
          ]
        },
        {
          "output_type": "execute_result",
          "data": {
            "text/plain": [
              "RandomizedSearchCV(cv=5, estimator=Ridge(), n_jobs=1,\n",
              "                   param_distributions={'alpha': [0.001, 0.01, 0.1, 1, 10,\n",
              "                                                  100]})"
            ]
          },
          "metadata": {},
          "execution_count": 136
        }
      ],
      "metadata": {}
    },
    {
      "cell_type": "code",
      "execution_count": 137,
      "source": [
        "print(g_search.best_params_)\n",
        "print(g_search.best_score_)"
      ],
      "outputs": [
        {
          "output_type": "stream",
          "name": "stdout",
          "text": [
            "{'alpha': 0.1}\n",
            "0.8626451015894687\n"
          ]
        }
      ],
      "metadata": {}
    },
    {
      "cell_type": "markdown",
      "source": [
        "## Check RMSE with the parameter obtained using Grid Search"
      ],
      "metadata": {}
    },
    {
      "cell_type": "code",
      "execution_count": 141,
      "source": [
        "ridge2 = Ridge(alpha=0.0)\n",
        "ridge2.fit(X2_train, y2_train)\n",
        "y2_pred_ridge2  = ridge2.predict(X2_test)\n",
        "\n",
        "mse2_ridge = mean_squared_error(y2_test, y2_pred_ridge2)\n",
        "rmse2_ridge= np.sqrt(mse2_ridge)\n",
        "print('rmse large features using ridge :', rmse2_ridge)"
      ],
      "outputs": [
        {
          "output_type": "stream",
          "name": "stdout",
          "text": [
            "rmse large features using ridge : 4.026699671973028\n"
          ]
        }
      ],
      "metadata": {}
    },
    {
      "cell_type": "markdown",
      "source": [
        "## Lasso to large number of features"
      ],
      "metadata": {}
    },
    {
      "cell_type": "code",
      "execution_count": 139,
      "source": [
        "lasso = Lasso()\n",
        "lasso.fit(X2_train, y2_train)\n",
        "y2_pred_lasso  = lasso.predict(X2_test)\n",
        "\n",
        "mse2_lasso = mean_squared_error(y2_test, y2_pred_lasso)\n",
        "rmse2_lasso= np.sqrt(mse2_lasso)\n",
        "print('rmse using lasso :', rmse2_lasso)"
      ],
      "outputs": [
        {
          "output_type": "stream",
          "name": "stdout",
          "text": [
            "rmse using lasso : 7.828585313298793\n"
          ]
        }
      ],
      "metadata": {}
    },
    {
      "cell_type": "code",
      "execution_count": 140,
      "source": [
        "lasso.coef_"
      ],
      "outputs": [
        {
          "output_type": "execute_result",
          "data": {
            "text/plain": [
              "array([-2.24902524e-03,  7.51993981e-04, -0.00000000e+00,  0.00000000e+00,\n",
              "       -0.00000000e+00, -0.00000000e+00, -0.00000000e+00, -0.00000000e+00,\n",
              "       -0.00000000e+00, -0.00000000e+00, -0.00000000e+00, -0.00000000e+00,\n",
              "       -0.00000000e+00, -0.00000000e+00,  0.00000000e+00, -0.00000000e+00,\n",
              "       -0.00000000e+00, -0.00000000e+00,  0.00000000e+00, -0.00000000e+00,\n",
              "        0.00000000e+00, -0.00000000e+00,  0.00000000e+00, -0.00000000e+00,\n",
              "        0.00000000e+00, -0.00000000e+00, -0.00000000e+00, -0.00000000e+00,\n",
              "       -0.00000000e+00,  0.00000000e+00,  0.00000000e+00,  0.00000000e+00,\n",
              "       -0.00000000e+00,  0.00000000e+00,  0.00000000e+00,  0.00000000e+00,\n",
              "        0.00000000e+00, -0.00000000e+00, -0.00000000e+00,  0.00000000e+00,\n",
              "       -0.00000000e+00, -0.00000000e+00, -0.00000000e+00, -0.00000000e+00,\n",
              "       -0.00000000e+00, -5.76172405e+00,  0.00000000e+00,  0.00000000e+00,\n",
              "        0.00000000e+00,  0.00000000e+00,  0.00000000e+00,  0.00000000e+00,\n",
              "       -2.12948366e-01])"
            ]
          },
          "metadata": {},
          "execution_count": 140
        }
      ],
      "metadata": {}
    },
    {
      "cell_type": "code",
      "execution_count": 142,
      "source": [
        "param_grid = {'alpha' : [0.001, 0.01, 0.1, 1, 10, 100]}\n",
        "\n",
        "g_search = RandomizedSearchCV(estimator = lasso, param_distributions = param_grid, cv = 5, n_jobs = 1, verbose = 0)\n",
        "\n",
        "g_search.fit(X2_train, y2_train)"
      ],
      "outputs": [
        {
          "output_type": "stream",
          "name": "stderr",
          "text": [
            "/Users/ravi/neuefische/urban-eureka/.venv/lib/python3.9/site-packages/sklearn/model_selection/_search.py:292: UserWarning: The total space of parameters 6 is smaller than n_iter=10. Running 6 iterations. For exhaustive searches, use GridSearchCV.\n",
            "  warnings.warn(\n",
            "/Users/ravi/neuefische/urban-eureka/.venv/lib/python3.9/site-packages/sklearn/linear_model/_coordinate_descent.py:645: ConvergenceWarning: Objective did not converge. You might want to increase the number of iterations, check the scale of the features or consider increasing regularisation. Duality gap: 8.385e+03, tolerance: 1.764e+01\n",
            "  model = cd_fast.enet_coordinate_descent(\n",
            "/Users/ravi/neuefische/urban-eureka/.venv/lib/python3.9/site-packages/sklearn/linear_model/_coordinate_descent.py:645: ConvergenceWarning: Objective did not converge. You might want to increase the number of iterations, check the scale of the features or consider increasing regularisation. Duality gap: 8.459e+03, tolerance: 1.791e+01\n",
            "  model = cd_fast.enet_coordinate_descent(\n",
            "/Users/ravi/neuefische/urban-eureka/.venv/lib/python3.9/site-packages/sklearn/linear_model/_coordinate_descent.py:645: ConvergenceWarning: Objective did not converge. You might want to increase the number of iterations, check the scale of the features or consider increasing regularisation. Duality gap: 3.612e+03, tolerance: 1.784e+01\n",
            "  model = cd_fast.enet_coordinate_descent(\n",
            "/Users/ravi/neuefische/urban-eureka/.venv/lib/python3.9/site-packages/sklearn/linear_model/_coordinate_descent.py:645: ConvergenceWarning: Objective did not converge. You might want to increase the number of iterations, check the scale of the features or consider increasing regularisation. Duality gap: 1.025e+04, tolerance: 2.229e+01\n",
            "  model = cd_fast.enet_coordinate_descent(\n"
          ]
        },
        {
          "output_type": "execute_result",
          "data": {
            "text/plain": [
              "RandomizedSearchCV(cv=5, estimator=Lasso(), n_jobs=1,\n",
              "                   param_distributions={'alpha': [0.001, 0.01, 0.1, 1, 10,\n",
              "                                                  100]})"
            ]
          },
          "metadata": {},
          "execution_count": 142
        }
      ],
      "metadata": {}
    },
    {
      "cell_type": "code",
      "execution_count": 144,
      "source": [
        "print(g_search.best_params_)\n",
        "print(g_search.best_score_)"
      ],
      "outputs": [
        {
          "output_type": "stream",
          "name": "stdout",
          "text": [
            "{'alpha': 0.001}\n",
            "0.8625020526157137\n"
          ]
        }
      ],
      "metadata": {}
    },
    {
      "cell_type": "code",
      "execution_count": 146,
      "source": [
        "lasso2 = Lasso(alpha=0.001)\n",
        "lasso2.fit(X2_train, y2_train)\n",
        "y2_pred_lasso2  = lasso2.predict(X2_test)\n",
        "\n",
        "mse2_lasso2 = mean_squared_error(y2_test, y2_pred_lasso2)\n",
        "rmse2_lasso2= np.sqrt(mse2_lasso2)\n",
        "print('rmse using lasso :', rmse2_lasso2)"
      ],
      "outputs": [
        {
          "output_type": "stream",
          "name": "stdout",
          "text": [
            "rmse using lasso : 4.018284256504949\n"
          ]
        },
        {
          "output_type": "stream",
          "name": "stderr",
          "text": [
            "/Users/ravi/neuefische/urban-eureka/.venv/lib/python3.9/site-packages/sklearn/linear_model/_coordinate_descent.py:645: ConvergenceWarning: Objective did not converge. You might want to increase the number of iterations, check the scale of the features or consider increasing regularisation. Duality gap: 1.025e+04, tolerance: 2.229e+01\n",
            "  model = cd_fast.enet_coordinate_descent(\n"
          ]
        }
      ],
      "metadata": {}
    },
    {
      "cell_type": "code",
      "execution_count": 147,
      "source": [
        "lasso2.coef_"
      ],
      "outputs": [
        {
          "output_type": "execute_result",
          "data": {
            "text/plain": [
              "array([ 1.07311915e-05, -3.57498750e-05,  3.16319511e+00,  7.70692701e+00,\n",
              "       -2.43488956e+00,  0.00000000e+00,  1.04800951e+01,  2.37111418e+00,\n",
              "       -7.71329237e+00, -4.00507799e+00,  0.00000000e+00, -1.48054300e+01,\n",
              "        0.00000000e+00, -2.51667165e+01,  4.74262170e+01, -1.12810836e+01,\n",
              "       -0.00000000e+00, -0.00000000e+00,  1.05609684e+01, -4.32610721e+00,\n",
              "        5.04497801e-14, -3.52374679e+01,  1.11451660e-12,  1.44786226e+01,\n",
              "       -4.94505587e-14, -2.95878911e+00,  1.90218900e+00,  4.11599559e-01,\n",
              "       -7.66183432e-01, -1.12230621e+00,  3.77337449e+00,  2.89124466e+00,\n",
              "       -6.85411855e-01,  0.00000000e+00, -1.51057736e-01,  1.82150210e+00,\n",
              "        4.53690867e+00, -0.00000000e+00, -3.37559398e+00, -1.29538165e+00,\n",
              "       -0.00000000e+00,  3.47391994e+00,  9.98738603e+00, -0.00000000e+00,\n",
              "        5.08562636e+00, -4.41603394e+00, -2.92998927e+00,  0.00000000e+00,\n",
              "        0.00000000e+00,  1.73120058e+00,  6.78823507e+00, -1.21473815e-01,\n",
              "       -1.80147235e-02])"
            ]
          },
          "metadata": {},
          "execution_count": 147
        }
      ],
      "metadata": {}
    }
  ],
  "metadata": {
    "colab": {
      "collapsed_sections": [],
      "name": "Starter Notebook.ipynb",
      "provenance": [],
      "toc_visible": true
    },
    "interpreter": {
      "hash": "b2c815cbb565fdfdb30a1570d4bf8e714ab1bfc64cfca5c28db8f277fe10cca7"
    },
    "kernelspec": {
      "name": "python3",
      "display_name": "Python 3.9.4 64-bit ('.venv': venv)"
    },
    "language_info": {
      "codemirror_mode": {
        "name": "ipython",
        "version": 3
      },
      "file_extension": ".py",
      "mimetype": "text/x-python",
      "name": "python",
      "nbconvert_exporter": "python",
      "pygments_lexer": "ipython3",
      "version": "3.9.4"
    },
    "toc": {
      "base_numbering": 1,
      "nav_menu": {},
      "number_sections": true,
      "sideBar": true,
      "skip_h1_title": false,
      "title_cell": "Table of Contents",
      "title_sidebar": "Contents",
      "toc_cell": false,
      "toc_position": {},
      "toc_section_display": true,
      "toc_window_display": false
    }
  },
  "nbformat": 4,
  "nbformat_minor": 2
}